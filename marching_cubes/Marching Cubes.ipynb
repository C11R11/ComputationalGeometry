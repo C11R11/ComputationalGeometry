{
 "cells": [
  {
   "cell_type": "code",
   "execution_count": null,
   "id": "4878d8d5",
   "metadata": {},
   "outputs": [],
   "source": [
    "import numpy as np\n",
    "import matplotlib.pyplot as plt\n",
    "from mpl_toolkits.mplot3d.art3d import Poly3DCollection\n",
    "\n",
    "from skimage import measure\n",
    "from skimage.draw import ellipsoid"
   ]
  },
  {
   "cell_type": "code",
   "execution_count": null,
   "id": "ac437f10",
   "metadata": {},
   "outputs": [],
   "source": [
    "# Generate a level set about zero of two identical ellipsoids in 3D\n",
    "ellip_base = ellipsoid(6, 10, 16, levelset=True)\n",
    "ellip_double = np.concatenate((ellip_base[:-1, ...],\n",
    "                               ellip_base[2:, ...]), axis=0)"
   ]
  },
  {
   "cell_type": "code",
   "execution_count": null,
   "id": "754e096d",
   "metadata": {},
   "outputs": [],
   "source": [
    "ellip_base"
   ]
  },
  {
   "cell_type": "code",
   "execution_count": null,
   "id": "90a03990",
   "metadata": {},
   "outputs": [],
   "source": [
    " ellip_base.shape, ellip_base.size, ellip_base.ndim"
   ]
  },
  {
   "cell_type": "code",
   "execution_count": null,
   "id": "54427aaf",
   "metadata": {},
   "outputs": [],
   "source": [
    "z, x, y = ellip_base.nonzero()"
   ]
  },
  {
   "cell_type": "code",
   "execution_count": null,
   "id": "96adb172",
   "metadata": {},
   "outputs": [],
   "source": [
    "z, x, y"
   ]
  },
  {
   "cell_type": "code",
   "execution_count": null,
   "id": "dd8acfd2",
   "metadata": {},
   "outputs": [],
   "source": [
    "fig = plt.figure()\n",
    "ax = fig.add_subplot(111, projection='3d')\n",
    "data = np.random.random(size=(3, 3, 3))\n",
    "print(data)\n",
    "z, x, y = data.nonzero()\n",
    "print(x,y,z)\n",
    "ax.scatter(x, y, z, c=z, alpha=1)\n",
    "plt.show()"
   ]
  },
  {
   "cell_type": "code",
   "execution_count": null,
   "id": "d788ad17",
   "metadata": {},
   "outputs": [],
   "source": [
    "ellip_base, type(ellip_base)"
   ]
  },
  {
   "cell_type": "code",
   "execution_count": null,
   "id": "da92faf9",
   "metadata": {},
   "outputs": [],
   "source": [
    "reshape = ellip_base.reshape(105,3)"
   ]
  },
  {
   "cell_type": "code",
   "execution_count": null,
   "id": "c08d20b5",
   "metadata": {},
   "outputs": [],
   "source": [
    "reshape, reshape.shape, reshape.size"
   ]
  },
  {
   "cell_type": "code",
   "execution_count": null,
   "id": "78892c68",
   "metadata": {},
   "outputs": [],
   "source": [
    "x = []\n",
    "y = []\n",
    "z = []\n",
    "for point in reshape:\n",
    "    x.append(point[0])\n",
    "    y.append(point[1])\n",
    "    z.append(point[2])\n",
    "\n",
    "#print(x,y,z)\n",
    "\n",
    "fig = plt.figure()\n",
    "ax = plt.axes(projection='3d')\n",
    "ax.scatter3D(x, y, z, c=z, cmap='Greens');"
   ]
  },
  {
   "cell_type": "code",
   "execution_count": null,
   "id": "1560004a",
   "metadata": {},
   "outputs": [],
   "source": [
    "x = np.asarray(ellip_base)"
   ]
  },
  {
   "cell_type": "code",
   "execution_count": null,
   "id": "4e561d0d",
   "metadata": {},
   "outputs": [],
   "source": [
    "x.tolist()"
   ]
  },
  {
   "cell_type": "code",
   "execution_count": null,
   "id": "2987f573",
   "metadata": {},
   "outputs": [],
   "source": [
    "# Use marching cubes to obtain the surface mesh of these ellipsoids\n",
    "verts, faces, normals, values = measure.marching_cubes(ellip_base, 0)"
   ]
  },
  {
   "cell_type": "code",
   "execution_count": null,
   "id": "5994e88e",
   "metadata": {},
   "outputs": [],
   "source": [
    "verts, verts.shape"
   ]
  },
  {
   "cell_type": "code",
   "execution_count": null,
   "id": "2507004c",
   "metadata": {},
   "outputs": [],
   "source": [
    "# Display resulting triangular mesh using Matplotlib. This can also be done\n",
    "# with mayavi (see skimage.measure.marching_cubes_lewiner docstring).\n",
    "fig = plt.figure(figsize=(10, 10))\n",
    "ax = fig.add_subplot(111, projection='3d')\n",
    "\n",
    "# Fancy indexing: `verts[faces]` to generate a collection of triangles\n",
    "mesh = Poly3DCollection(verts[faces])\n",
    "mesh.set_edgecolor('k')\n",
    "ax.add_collection3d(mesh)\n",
    "\n",
    "ax.set_xlabel(\"x-axis: a = 6 per ellipsoid\")\n",
    "ax.set_ylabel(\"y-axis: b = 10\")\n",
    "ax.set_zlabel(\"z-axis: c = 16\")\n",
    "\n",
    "ax.set_xlim(0, 24)  # a = 6 (times two for 2nd ellipsoid)\n",
    "ax.set_ylim(0, 20)  # b = 10\n",
    "ax.set_zlim(0, 32)  # c = 16\n",
    "\n",
    "plt.tight_layout()\n",
    "plt.show()"
   ]
  },
  {
   "cell_type": "code",
   "execution_count": null,
   "id": "7aee1c09",
   "metadata": {},
   "outputs": [],
   "source": [
    "# Display resulting triangular mesh using Matplotlib. This can also be done\n",
    "# with mayavi (see skimage.measure.marching_cubes_lewiner docstring).\n",
    "fig = plt.figure(figsize=(10, 10))\n",
    "ax = fig.add_subplot(111, projection='3d')\n",
    "\n",
    "# Fancy indexing: `verts[faces]` to generate a collection of triangles\n",
    "mesh = Poly3DCollection(verts[faces])\n",
    "mesh.set_edgecolor('k')\n",
    "ax.add_collection3d(mesh)\n",
    "\n",
    "ax.set_xlabel(\"x-axis: a = 6 per ellipsoid\")\n",
    "ax.set_ylabel(\"y-axis: b = 10\")\n",
    "ax.set_zlabel(\"z-axis: c = 16\")\n",
    "\n",
    "ax.set_xlim(0, 24)  # a = 6 (times two for 2nd ellipsoid)\n",
    "ax.set_ylim(0, 20)  # b = 10\n",
    "ax.set_zlim(0, 32)  # c = 16\n",
    "\n",
    "plt.tight_layout()\n",
    "plt.show()"
   ]
  },
  {
   "cell_type": "code",
   "execution_count": null,
   "id": "c5870dc6",
   "metadata": {},
   "outputs": [],
   "source": [
    "import mcubes\n",
    "mcubes.export_obj(verts, faces, 'sphere.obj')"
   ]
  },
  {
   "cell_type": "code",
   "execution_count": null,
   "id": "cbf178e6",
   "metadata": {},
   "outputs": [],
   "source": [
    "import open3d as o3d\n",
    "mesh = o3d.io.read_triangle_mesh(\"sphere.obj\")\n",
    "#o3d.visualization.draw_geometries([mesh])"
   ]
  },
  {
   "cell_type": "code",
   "execution_count": null,
   "id": "4074346f",
   "metadata": {},
   "outputs": [],
   "source": [
    "ellip_base = ellip_base[0]\n",
    "print(ellip_base)"
   ]
  },
  {
   "cell_type": "code",
   "execution_count": null,
   "id": "c88752d9",
   "metadata": {},
   "outputs": [],
   "source": [
    "import numpy as np\n",
    "import matplotlib.pyplot as plt\n",
    "\n",
    "z, x, y = ellip_base.nonzero()\n",
    "\n",
    "fig = plt.figure()\n",
    "ax = plt.axes(111, projection='3d')\n",
    "#ax.scatter3D(x, y, z, cmap='Greens');\n",
    "ax.plot(ellip_base[:,0], ellip_base[:,1], ellip_base[:,2])\n"
   ]
  },
  {
   "cell_type": "code",
   "execution_count": null,
   "id": "3a25390d",
   "metadata": {},
   "outputs": [],
   "source": [
    "import matplotlib.pyplot as plt, numpy as np\n",
    "from mpl_toolkits.mplot3d import Axes3D\n",
    "\n",
    "v= np.array(ellip_base)\n",
    "fig = plt.figure()\n",
    "ax = fig.add_subplot(111, projection='3d')\n",
    "ax.plot(v[:,0],v[:,1],v[:,2])\n",
    "plt.show()"
   ]
  },
  {
   "cell_type": "code",
   "execution_count": null,
   "id": "f4f62dfa",
   "metadata": {},
   "outputs": [],
   "source": [
    "import numpy as np\n",
    "import matplotlib.pyplot as plt\n",
    "\n",
    "fig = plt.figure()\n",
    "\n",
    "# Data for a three-dimensional line\n",
    "zline = np.linspace(0, 15, 1000)\n",
    "xline = np.sin(zline)\n",
    "yline = np.cos(zline)\n",
    "#ax.plot3D(xline, yline, zline, 'gray')\n",
    "\n",
    "# Data for three-dimensional scattered points\n",
    "zdata = 15 * np.random.random(100)\n",
    "xdata = np.sin(zdata) + 0.1 * np.random.randn(100)\n",
    "ydata = np.cos(zdata) + 0.1 * np.random.randn(100)\n",
    "ax.scatter3D(verts[:,0], verts[:,1], verts[:,2], c=verts[:,2], cmap='Greens');"
   ]
  },
  {
   "cell_type": "code",
   "execution_count": null,
   "id": "002307a8",
   "metadata": {},
   "outputs": [],
   "source": [
    "import numpy as np\n",
    "import matplotlib.pyplot as plt\n",
    "\n",
    "xyz=np.array(np.random.random((100,3)))"
   ]
  },
  {
   "cell_type": "code",
   "execution_count": null,
   "id": "7d8e4c22",
   "metadata": {
    "scrolled": true
   },
   "outputs": [],
   "source": []
  },
  {
   "cell_type": "code",
   "execution_count": null,
   "id": "63861dfd",
   "metadata": {},
   "outputs": [],
   "source": [
    "fig = plt.figure()\n",
    "ax = fig.add_subplot(111, projection='3d')\n",
    "plt.plot(verts[:,0], verts[:,1], verts[:,2], \"o\",  alpha=1)\n",
    "plt.show()"
   ]
  },
  {
   "cell_type": "code",
   "execution_count": null,
   "id": "07eaf58a",
   "metadata": {},
   "outputs": [],
   "source": [
    "import open3d as o3d\n",
    "import numpy as np\n",
    "np.set_printoptions(precision=4)\n",
    "import matplotlib.pyplot as plt\n",
    "from skimage import measure"
   ]
  },
  {
   "cell_type": "code",
   "execution_count": null,
   "id": "6a278070",
   "metadata": {},
   "outputs": [],
   "source": [
    "pcd_o3d = o3d.geometry.PointCloud()  # create point cloud object\n",
    "pcd_o3d.points = o3d.utility.Vector3dVector(verts)  # set pcd_np as the point cloud points\n",
    "pcd_o3d.paint_uniform_color([0,255,255])\n",
    "o3d.visualization.draw_geometries_with_custom_animation([pcd_o3d])"
   ]
  },
  {
   "cell_type": "code",
   "execution_count": null,
   "id": "9fedff6b",
   "metadata": {},
   "outputs": [],
   "source": [
    "mesh = o3d.io.read_triangle_mesh(\"sphere.obj\")\n",
    "o3d.visualization.draw_geometries([mesh])"
   ]
  },
  {
   "cell_type": "code",
   "execution_count": null,
   "id": "2557d1ab",
   "metadata": {},
   "outputs": [],
   "source": [
    "m = o3d.geometry.TriangleMesh.create_sphere(radius=1.0, resolution=20)"
   ]
  },
  {
   "cell_type": "code",
   "execution_count": null,
   "id": "68aef9d0",
   "metadata": {},
   "outputs": [],
   "source": [
    "np.asarray(m.vertices), np.asarray(m.vertices).shape"
   ]
  },
  {
   "cell_type": "code",
   "execution_count": null,
   "id": "df61586c",
   "metadata": {},
   "outputs": [],
   "source": [
    "vert = np.asarray(m.vertices)\n",
    "\n",
    "fig = plt.figure()\n",
    "ax = fig.add_subplot(111, projection='3d')\n",
    "plt.plot(vert[:,0], vert[:,1], vert[:,2], \"o\",  alpha=1)\n",
    "plt.show()\n",
    "\n",
    "pcd_o3d = o3d.geometry.PointCloud()  # create point cloud object\n",
    "pcd_o3d.points = o3d.utility.Vector3dVector(vert)  # set pcd_np as the point cloud points\n",
    "pcd_o3d.paint_uniform_color([0,255,255])\n",
    "o3d.visualization.draw_geometries_with_custom_animation([pcd_o3d])"
   ]
  },
  {
   "cell_type": "code",
   "execution_count": null,
   "id": "1ebda445",
   "metadata": {},
   "outputs": [],
   "source": [
    "vert.shape, vert.ndim"
   ]
  },
  {
   "cell_type": "code",
   "execution_count": null,
   "id": "f14f7f5a",
   "metadata": {},
   "outputs": [],
   "source": [
    "verts, faces, normals, values = measure.marching_cubes(vert, 0)"
   ]
  },
  {
   "cell_type": "code",
   "execution_count": null,
   "id": "5dd76eb6",
   "metadata": {},
   "outputs": [],
   "source": [
    "a = np.array([\n",
    "    [0,0,0],\n",
    "    [1,0,0],\n",
    "    [1,1,0],\n",
    "    [0,1,0],\n",
    "    [0,0,1],\n",
    "    [1,0,1],\n",
    "    [1,1,1],\n",
    "    [0,1,1]])\n",
    "\n",
    "print(a.shape, a.ndim)\n",
    "\n",
    "fig = plt.figure()\n",
    "ax = fig.add_subplot(111, projection='3d')\n",
    "plt.plot(a[:,0], a[:,1], a[:,2], \"o\",  alpha=1)\n",
    "plt.show()"
   ]
  },
  {
   "cell_type": "code",
   "execution_count": null,
   "id": "409c355e",
   "metadata": {},
   "outputs": [],
   "source": [
    "arr_3d = a.reshape((1,-1,3)).transpose()"
   ]
  },
  {
   "cell_type": "code",
   "execution_count": null,
   "id": "1df5671d",
   "metadata": {},
   "outputs": [],
   "source": [
    "arr_3d, arr_3d.shape, arr_3d.ndim"
   ]
  },
  {
   "cell_type": "code",
   "execution_count": null,
   "id": "fc86a0be",
   "metadata": {},
   "outputs": [],
   "source": [
    "arr_3d[1], type(arr_3d[1]), arr_3d[1].ndim, arr_3d[1].shape, arr_3d[1].tolist()"
   ]
  },
  {
   "cell_type": "code",
   "execution_count": null,
   "id": "4940bc6c",
   "metadata": {},
   "outputs": [],
   "source": []
  },
  {
   "cell_type": "code",
   "execution_count": null,
   "id": "37a54a51",
   "metadata": {},
   "outputs": [],
   "source": [
    "fig = plt.figure()\n",
    "ax = fig.add_subplot(111, projection='3d')\n",
    "plt.plot(arr_3d[0].tolist(), arr_3d[1].tolist(), arr_3d[2].tolist(), \"o\",  alpha=1)\n",
    "plt.show()"
   ]
  },
  {
   "cell_type": "code",
   "execution_count": null,
   "id": "b8286439",
   "metadata": {},
   "outputs": [],
   "source": [
    "verts, faces, normals, values = measure.marching_cubes(a, 0)"
   ]
  },
  {
   "cell_type": "code",
   "execution_count": null,
   "id": "250e321e",
   "metadata": {},
   "outputs": [],
   "source": [
    "verts, faces, normals, values"
   ]
  },
  {
   "cell_type": "code",
   "execution_count": null,
   "id": "fa7215ac",
   "metadata": {},
   "outputs": [],
   "source": [
    "fig = plt.figure()\n",
    "ax = fig.add_subplot(111, projection='3d')\n",
    "plt.plot(verts[:,0], verts[:,1], verts[:,2], \"o\",  alpha=1)\n",
    "plt.show()"
   ]
  },
  {
   "cell_type": "code",
   "execution_count": null,
   "id": "90217d2d",
   "metadata": {},
   "outputs": [],
   "source": [
    "import mcubes\n",
    "mcubes.export_obj(verts, faces, 'mesh.obj')"
   ]
  },
  {
   "cell_type": "code",
   "execution_count": null,
   "id": "2be21229",
   "metadata": {},
   "outputs": [],
   "source": [
    "mesh = o3d.io.read_triangle_mesh(\"sphere.obj\")\n",
    "o3d.visualization.draw_geometries([mesh])"
   ]
  },
  {
   "cell_type": "code",
   "execution_count": null,
   "id": "96cee120",
   "metadata": {},
   "outputs": [],
   "source": []
  }
 ],
 "metadata": {
  "kernelspec": {
   "display_name": "Python 3 (ipykernel)",
   "language": "python",
   "name": "python3"
  },
  "language_info": {
   "codemirror_mode": {
    "name": "ipython",
    "version": 3
   },
   "file_extension": ".py",
   "mimetype": "text/x-python",
   "name": "python",
   "nbconvert_exporter": "python",
   "pygments_lexer": "ipython3",
   "version": "3.9.13"
  },
  "vscode": {
   "interpreter": {
    "hash": "39491dd11318cacdca2f81b5a64a9cff4681d3224253b75c4f22b5ff82b27218"
   }
  }
 },
 "nbformat": 4,
 "nbformat_minor": 5
}
