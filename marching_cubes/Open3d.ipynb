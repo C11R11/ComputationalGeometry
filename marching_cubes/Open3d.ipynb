{
 "cells": [
  {
   "cell_type": "code",
   "execution_count": 7,
   "id": "faf13316-be81-4d9e-ba4c-1e79f17386af",
   "metadata": {},
   "outputs": [],
   "source": [
    "import numpy as np\n",
    "import open3d as o3d\n",
    "import pandas as pd\n",
    "\n",
    "csv = \"ext_array.csv\"\n",
    "df = pd.read_csv(csv)\n",
    "\n",
    "x = df.to_numpy()"
   ]
  },
  {
   "cell_type": "code",
   "execution_count": 9,
   "id": "a468489f-7a8d-4673-a7d0-02dae57c4742",
   "metadata": {},
   "outputs": [
    {
     "data": {
      "text/plain": [
       "(45245, 3)"
      ]
     },
     "execution_count": 9,
     "metadata": {},
     "output_type": "execute_result"
    }
   ],
   "source": [
    "x.shape"
   ]
  },
  {
   "cell_type": "code",
   "execution_count": 20,
   "id": "6e2e6ad1-3bab-44cb-9402-d13063fba831",
   "metadata": {},
   "outputs": [
    {
     "data": {
      "text/plain": [
       "True"
      ]
     },
     "execution_count": 20,
     "metadata": {},
     "output_type": "execute_result"
    }
   ],
   "source": [
    "point_cloud = o3d.geometry.PointCloud()\n",
    "point_cloud.points = o3d.utility.Vector3dVector(x)\n",
    "point_cloud.estimate_normals()\n",
    "\n",
    "#o3d.visualization.draw_geometries([x])\n",
    "radii = [0.005, 0.01, 0.02, 0.04]\n",
    "rec_mesh = o3d.geometry.TriangleMesh.create_from_point_cloud_ball_pivoting(\n",
    "    point_cloud, o3d.utility.DoubleVector(radii))\n",
    "#o3d.visualization.draw_geometries([x, rec_mesh])\n",
    "\n",
    "o3d.io.write_triangle_mesh(\"copy_of_crate.obj\",\n",
    "                               rec_mesh,\n",
    "                               write_triangle_uvs=True)"
   ]
  },
  {
   "cell_type": "code",
   "execution_count": null,
   "id": "3936cb16-9f63-451f-a0cf-e76fe4fba6dc",
   "metadata": {},
   "outputs": [],
   "source": [
    "import pyvista as pv\n",
    "mesh = pv.read(\"copy_of_crate.obj\")\n",
    "cpos = mesh.plot()"
   ]
  }
 ],
 "metadata": {
  "kernelspec": {
   "display_name": "Python 3 (ipykernel)",
   "language": "python",
   "name": "python3"
  },
  "language_info": {
   "codemirror_mode": {
    "name": "ipython",
    "version": 3
   },
   "file_extension": ".py",
   "mimetype": "text/x-python",
   "name": "python",
   "nbconvert_exporter": "python",
   "pygments_lexer": "ipython3",
   "version": "3.9.13"
  }
 },
 "nbformat": 4,
 "nbformat_minor": 5
}
