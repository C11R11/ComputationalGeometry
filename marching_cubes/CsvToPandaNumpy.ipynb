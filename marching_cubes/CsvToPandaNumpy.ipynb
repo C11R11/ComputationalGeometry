{
 "cells": [
  {
   "cell_type": "markdown",
   "id": "d236e19b-5394-49af-975c-3f20a325c9a4",
   "metadata": {},
   "source": [
    "# Pandas to arrays\n",
    "\n",
    "https://pythonguides.com/convert-pandas-dataframe-to-numpy-array/"
   ]
  },
  {
   "cell_type": "code",
   "execution_count": 1,
   "id": "ff6bdbe8-c857-4c04-87de-e564e83b4c02",
   "metadata": {},
   "outputs": [],
   "source": [
    "import pandas as pd"
   ]
  },
  {
   "cell_type": "code",
   "execution_count": 2,
   "id": "37f76f4f-4e69-4400-b636-8b967501318e",
   "metadata": {},
   "outputs": [
    {
     "data": {
      "text/html": [
       "<div>\n",
       "<style scoped>\n",
       "    .dataframe tbody tr th:only-of-type {\n",
       "        vertical-align: middle;\n",
       "    }\n",
       "\n",
       "    .dataframe tbody tr th {\n",
       "        vertical-align: top;\n",
       "    }\n",
       "\n",
       "    .dataframe thead th {\n",
       "        text-align: right;\n",
       "    }\n",
       "</style>\n",
       "<table border=\"1\" class=\"dataframe\">\n",
       "  <thead>\n",
       "    <tr style=\"text-align: right;\">\n",
       "      <th></th>\n",
       "      <th>92925.978000</th>\n",
       "      <th>20307.674000</th>\n",
       "      <th>2645.000000</th>\n",
       "    </tr>\n",
       "  </thead>\n",
       "  <tbody>\n",
       "    <tr>\n",
       "      <th>0</th>\n",
       "      <td>92935.978</td>\n",
       "      <td>20307.674</td>\n",
       "      <td>2645.0</td>\n",
       "    </tr>\n",
       "    <tr>\n",
       "      <th>1</th>\n",
       "      <td>92925.978</td>\n",
       "      <td>20317.674</td>\n",
       "      <td>2645.0</td>\n",
       "    </tr>\n",
       "    <tr>\n",
       "      <th>2</th>\n",
       "      <td>92945.978</td>\n",
       "      <td>20307.674</td>\n",
       "      <td>2645.0</td>\n",
       "    </tr>\n",
       "    <tr>\n",
       "      <th>3</th>\n",
       "      <td>92955.978</td>\n",
       "      <td>20307.674</td>\n",
       "      <td>2645.0</td>\n",
       "    </tr>\n",
       "    <tr>\n",
       "      <th>4</th>\n",
       "      <td>92965.978</td>\n",
       "      <td>20307.674</td>\n",
       "      <td>2645.0</td>\n",
       "    </tr>\n",
       "  </tbody>\n",
       "</table>\n",
       "</div>"
      ],
      "text/plain": [
       "   92925.978000  20307.674000  2645.000000\n",
       "0     92935.978     20307.674       2645.0\n",
       "1     92925.978     20317.674       2645.0\n",
       "2     92945.978     20307.674       2645.0\n",
       "3     92955.978     20307.674       2645.0\n",
       "4     92965.978     20307.674       2645.0"
      ]
     },
     "execution_count": 2,
     "metadata": {},
     "output_type": "execute_result"
    }
   ],
   "source": [
    "csv = \"ext_array.csv\"\n",
    "df = pd.read_csv(csv)\n",
    "df.head()"
   ]
  },
  {
   "cell_type": "code",
   "execution_count": 3,
   "id": "651b897c-bfd6-44bd-8d5f-9b1e2ebf0ecf",
   "metadata": {},
   "outputs": [
    {
     "data": {
      "text/html": [
       "<div>\n",
       "<style scoped>\n",
       "    .dataframe tbody tr th:only-of-type {\n",
       "        vertical-align: middle;\n",
       "    }\n",
       "\n",
       "    .dataframe tbody tr th {\n",
       "        vertical-align: top;\n",
       "    }\n",
       "\n",
       "    .dataframe thead th {\n",
       "        text-align: right;\n",
       "    }\n",
       "</style>\n",
       "<table border=\"1\" class=\"dataframe\">\n",
       "  <thead>\n",
       "    <tr style=\"text-align: right;\">\n",
       "      <th></th>\n",
       "      <th>92925.978000</th>\n",
       "      <th>20307.674000</th>\n",
       "      <th>2645.000000</th>\n",
       "    </tr>\n",
       "  </thead>\n",
       "  <tbody>\n",
       "    <tr>\n",
       "      <th>count</th>\n",
       "      <td>45245.000000</td>\n",
       "      <td>45245.000000</td>\n",
       "      <td>45245.000000</td>\n",
       "    </tr>\n",
       "    <tr>\n",
       "      <th>mean</th>\n",
       "      <td>93281.762507</td>\n",
       "      <td>20704.939554</td>\n",
       "      <td>2830.555752</td>\n",
       "    </tr>\n",
       "    <tr>\n",
       "      <th>std</th>\n",
       "      <td>265.690329</td>\n",
       "      <td>272.467989</td>\n",
       "      <td>114.513666</td>\n",
       "    </tr>\n",
       "    <tr>\n",
       "      <th>min</th>\n",
       "      <td>92925.978000</td>\n",
       "      <td>20307.674000</td>\n",
       "      <td>2635.000000</td>\n",
       "    </tr>\n",
       "    <tr>\n",
       "      <th>25%</th>\n",
       "      <td>93035.978000</td>\n",
       "      <td>20457.674000</td>\n",
       "      <td>2735.000000</td>\n",
       "    </tr>\n",
       "    <tr>\n",
       "      <th>50%</th>\n",
       "      <td>93265.978000</td>\n",
       "      <td>20697.674000</td>\n",
       "      <td>2815.000000</td>\n",
       "    </tr>\n",
       "    <tr>\n",
       "      <th>75%</th>\n",
       "      <td>93515.978000</td>\n",
       "      <td>20937.674000</td>\n",
       "      <td>2905.000000</td>\n",
       "    </tr>\n",
       "    <tr>\n",
       "      <th>max</th>\n",
       "      <td>93755.978000</td>\n",
       "      <td>21147.674000</td>\n",
       "      <td>3095.000000</td>\n",
       "    </tr>\n",
       "  </tbody>\n",
       "</table>\n",
       "</div>"
      ],
      "text/plain": [
       "       92925.978000  20307.674000   2645.000000\n",
       "count  45245.000000  45245.000000  45245.000000\n",
       "mean   93281.762507  20704.939554   2830.555752\n",
       "std      265.690329    272.467989    114.513666\n",
       "min    92925.978000  20307.674000   2635.000000\n",
       "25%    93035.978000  20457.674000   2735.000000\n",
       "50%    93265.978000  20697.674000   2815.000000\n",
       "75%    93515.978000  20937.674000   2905.000000\n",
       "max    93755.978000  21147.674000   3095.000000"
      ]
     },
     "execution_count": 3,
     "metadata": {},
     "output_type": "execute_result"
    }
   ],
   "source": [
    "df.describe()"
   ]
  },
  {
   "cell_type": "code",
   "execution_count": 4,
   "id": "891dbf69-5b9d-43cd-b79c-089c1e6b2b80",
   "metadata": {},
   "outputs": [],
   "source": [
    "#auxFrame = df.filter(items=[\"xcentre\", \"ycentre\", \"zcentre\"])[:100000]"
   ]
  },
  {
   "cell_type": "code",
   "execution_count": 6,
   "id": "f8e1f340-3218-4886-8c51-cff2c0d77d6b",
   "metadata": {},
   "outputs": [
    {
     "data": {
      "text/html": [
       "<div>\n",
       "<style scoped>\n",
       "    .dataframe tbody tr th:only-of-type {\n",
       "        vertical-align: middle;\n",
       "    }\n",
       "\n",
       "    .dataframe tbody tr th {\n",
       "        vertical-align: top;\n",
       "    }\n",
       "\n",
       "    .dataframe thead th {\n",
       "        text-align: right;\n",
       "    }\n",
       "</style>\n",
       "<table border=\"1\" class=\"dataframe\">\n",
       "  <thead>\n",
       "    <tr style=\"text-align: right;\">\n",
       "      <th></th>\n",
       "      <th>92925.978000</th>\n",
       "      <th>20307.674000</th>\n",
       "      <th>2645.000000</th>\n",
       "    </tr>\n",
       "  </thead>\n",
       "  <tbody>\n",
       "    <tr>\n",
       "      <th>count</th>\n",
       "      <td>45245.000000</td>\n",
       "      <td>45245.000000</td>\n",
       "      <td>45245.000000</td>\n",
       "    </tr>\n",
       "    <tr>\n",
       "      <th>mean</th>\n",
       "      <td>93281.762507</td>\n",
       "      <td>20704.939554</td>\n",
       "      <td>2830.555752</td>\n",
       "    </tr>\n",
       "    <tr>\n",
       "      <th>std</th>\n",
       "      <td>265.690329</td>\n",
       "      <td>272.467989</td>\n",
       "      <td>114.513666</td>\n",
       "    </tr>\n",
       "    <tr>\n",
       "      <th>min</th>\n",
       "      <td>92925.978000</td>\n",
       "      <td>20307.674000</td>\n",
       "      <td>2635.000000</td>\n",
       "    </tr>\n",
       "    <tr>\n",
       "      <th>25%</th>\n",
       "      <td>93035.978000</td>\n",
       "      <td>20457.674000</td>\n",
       "      <td>2735.000000</td>\n",
       "    </tr>\n",
       "    <tr>\n",
       "      <th>50%</th>\n",
       "      <td>93265.978000</td>\n",
       "      <td>20697.674000</td>\n",
       "      <td>2815.000000</td>\n",
       "    </tr>\n",
       "    <tr>\n",
       "      <th>75%</th>\n",
       "      <td>93515.978000</td>\n",
       "      <td>20937.674000</td>\n",
       "      <td>2905.000000</td>\n",
       "    </tr>\n",
       "    <tr>\n",
       "      <th>max</th>\n",
       "      <td>93755.978000</td>\n",
       "      <td>21147.674000</td>\n",
       "      <td>3095.000000</td>\n",
       "    </tr>\n",
       "  </tbody>\n",
       "</table>\n",
       "</div>"
      ],
      "text/plain": [
       "       92925.978000  20307.674000   2645.000000\n",
       "count  45245.000000  45245.000000  45245.000000\n",
       "mean   93281.762507  20704.939554   2830.555752\n",
       "std      265.690329    272.467989    114.513666\n",
       "min    92925.978000  20307.674000   2635.000000\n",
       "25%    93035.978000  20457.674000   2735.000000\n",
       "50%    93265.978000  20697.674000   2815.000000\n",
       "75%    93515.978000  20937.674000   2905.000000\n",
       "max    93755.978000  21147.674000   3095.000000"
      ]
     },
     "execution_count": 6,
     "metadata": {},
     "output_type": "execute_result"
    }
   ],
   "source": [
    "df.describe()"
   ]
  },
  {
   "cell_type": "code",
   "execution_count": 7,
   "id": "193f8db0-4f1f-427c-8588-0ee9b0be1c78",
   "metadata": {},
   "outputs": [],
   "source": [
    "x = df.to_numpy()"
   ]
  },
  {
   "cell_type": "code",
   "execution_count": null,
   "id": "94067794-c0bf-449d-bdd0-4ef8f112dd66",
   "metadata": {},
   "outputs": [
    {
     "data": {
      "text/plain": [
       "((45245, 3), 135735, 2)"
      ]
     },
     "execution_count": 8,
     "metadata": {},
     "output_type": "execute_result"
    }
   ],
   "source": [
    "x.shape, x.size, x.ndim"
   ]
  },
  {
   "cell_type": "code",
   "execution_count": 10,
   "id": "05b23064-5c45-4b1c-bec9-3a5e305b2780",
   "metadata": {},
   "outputs": [
    {
     "data": {
      "text/plain": [
       "(3, 45245)"
      ]
     },
     "execution_count": 10,
     "metadata": {},
     "output_type": "execute_result"
    }
   ],
   "source": []
  },
  {
   "cell_type": "code",
   "execution_count": 42,
   "id": "a6e32df7-de2b-4dbf-8567-9e8141286f27",
   "metadata": {},
   "outputs": [],
   "source": [
    "y = x.reshape(9049,5,3)\n",
    "\n",
    "from skimage import measure\n",
    "verts, faces, normals, values = measure.marching_cubes(y, 93281)\n",
    "\n",
    "import mcubes\n",
    "import open3d as o3d\n",
    "mcubes.export_obj(verts, faces, 'xyz.obj')\n",
    "\n",
    "mesh = o3d.io.read_triangle_mesh(\"xyz.obj\")\n",
    "o3d.visualization.draw_geometries([mesh], mesh_show_wireframe=True)"
   ]
  },
  {
   "cell_type": "code",
   "execution_count": 39,
   "id": "257fe64c-845b-4fb8-875f-39aa243913ac",
   "metadata": {},
   "outputs": [
    {
     "data": {
      "text/plain": [
       "array([[0.0000000e+00, 0.0000000e+00, 1.5113340e-04],\n",
       "       [1.0000000e+00, 0.0000000e+00, 5.6404021e-04],\n",
       "       [0.0000000e+00, 1.0000000e+00, 1.3449736e-05],\n",
       "       ...,\n",
       "       [9.0480000e+03, 2.0000000e+00, 9.1246832e-03],\n",
       "       [9.0480000e+03, 3.0000000e+00, 1.3605260e-05],\n",
       "       [9.0480000e+03, 4.0000000e+00, 4.1446378e-03]], dtype=float32)"
      ]
     },
     "execution_count": 39,
     "metadata": {},
     "output_type": "execute_result"
    }
   ],
   "source": [
    "verts"
   ]
  },
  {
   "cell_type": "code",
   "execution_count": null,
   "id": "d2cc0b72-2fbe-4853-871a-f396ce96b22f",
   "metadata": {},
   "outputs": [],
   "source": []
  }
 ],
 "metadata": {
  "kernelspec": {
   "display_name": "Python 3 (ipykernel)",
   "language": "python",
   "name": "python3"
  },
  "language_info": {
   "codemirror_mode": {
    "name": "ipython",
    "version": 3
   },
   "file_extension": ".py",
   "mimetype": "text/x-python",
   "name": "python",
   "nbconvert_exporter": "python",
   "pygments_lexer": "ipython3",
   "version": "3.9.13"
  }
 },
 "nbformat": 4,
 "nbformat_minor": 5
}
