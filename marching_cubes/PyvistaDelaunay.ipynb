{
 "cells": [
  {
   "cell_type": "markdown",
   "id": "467ad530-7547-46d1-ab3a-9d5bf9d254cf",
   "metadata": {},
   "source": [
    "#Pyvista\n",
    "\n",
    "https://stackoverflow.com/questions/54898657/i-want-to-generate-a-mesh-from-a-point-cloud-in-python"
   ]
  },
  {
   "cell_type": "code",
   "execution_count": null,
   "id": "a0eed424-38ce-40b9-9f95-9c8ab4735833",
   "metadata": {},
   "outputs": [],
   "source": [
    "import numpy as np\n",
    "import pyvista as pv\n",
    "import pandas as pd\n",
    "\n",
    "csv = \"ext_array.csv\"\n",
    "df = pd.read_csv(csv)\n",
    "\n",
    "x = df.to_numpy()\n",
    "\n",
    "# points is a 3D numpy array (n_points, 3) coordinates of a sphere\n",
    "cloud = pv.PolyData(x)\n",
    "#cloud.plot()\n",
    "\n",
    "#volume = cloud.delaunay_3d(alpha=2.)\n",
    "#shell = volume.extract_geometry()\n",
    "#shell.plot()\n",
    "\n",
    "surf = cloud.reconstruct_surface()\n",
    "pl = pv.Plotter(shape=(1,2))\n",
    "pl.add_mesh(surf, color=True, show_edges=True)\n",
    "pl.show()"
   ]
  },
  {
   "cell_type": "code",
   "execution_count": 5,
   "id": "f4579536-3ee1-424b-88bd-8023e7c66ffe",
   "metadata": {},
   "outputs": [
    {
     "ename": "AttributeError",
     "evalue": "module 'pyvista' has no attribute 'IPlotter'",
     "output_type": "error",
     "traceback": [
      "\u001b[0;31m---------------------------------------------------------------------------\u001b[0m",
      "\u001b[0;31mAttributeError\u001b[0m                            Traceback (most recent call last)",
      "\u001b[0;32m/var/folders/2r/bx7qcdrs231f759gj82n0jdw0000gn/T/ipykernel_80403/2678794534.py\u001b[0m in \u001b[0;36m<module>\u001b[0;34m\u001b[0m\n\u001b[1;32m     24\u001b[0m \u001b[0;31m#mesh.plot()\u001b[0m\u001b[0;34m\u001b[0m\u001b[0;34m\u001b[0m\u001b[0m\n\u001b[1;32m     25\u001b[0m \u001b[0;34m\u001b[0m\u001b[0m\n\u001b[0;32m---> 26\u001b[0;31m \u001b[0mpl\u001b[0m \u001b[0;34m=\u001b[0m \u001b[0mpv\u001b[0m\u001b[0;34m.\u001b[0m\u001b[0mIPlotter\u001b[0m\u001b[0;34m(\u001b[0m\u001b[0;34m)\u001b[0m\u001b[0;34m\u001b[0m\u001b[0;34m\u001b[0m\u001b[0m\n\u001b[0m\u001b[1;32m     27\u001b[0m \u001b[0mpl\u001b[0m\u001b[0;34m.\u001b[0m\u001b[0madd_mesh\u001b[0m\u001b[0;34m(\u001b[0m\u001b[0mmesh\u001b[0m\u001b[0;34m,\u001b[0m \u001b[0mshow_edges\u001b[0m\u001b[0;34m=\u001b[0m\u001b[0;32mTrue\u001b[0m\u001b[0;34m)\u001b[0m\u001b[0;34m\u001b[0m\u001b[0;34m\u001b[0m\u001b[0m\n\u001b[1;32m     28\u001b[0m \u001b[0mpl\u001b[0m\u001b[0;34m.\u001b[0m\u001b[0madd_point_labels\u001b[0m\u001b[0;34m(\u001b[0m\u001b[0mmesh\u001b[0m\u001b[0;34m.\u001b[0m\u001b[0mpoints\u001b[0m\u001b[0;34m,\u001b[0m \u001b[0mrange\u001b[0m\u001b[0;34m(\u001b[0m\u001b[0mmesh\u001b[0m\u001b[0;34m.\u001b[0m\u001b[0mn_points\u001b[0m\u001b[0;34m)\u001b[0m\u001b[0;34m)\u001b[0m\u001b[0;34m\u001b[0m\u001b[0;34m\u001b[0m\u001b[0m\n",
      "\u001b[0;31mAttributeError\u001b[0m: module 'pyvista' has no attribute 'IPlotter'"
     ]
    }
   ],
   "source": [
    "import numpy as np\n",
    "\n",
    "import pyvista as pv\n",
    "\n",
    "# Create an array of points\n",
    "points = np.array(\n",
    "    [\n",
    "        [1.0, 0.0, 0.0],\n",
    "        [0.0, 0.0, 0.0],\n",
    "        [1.0, 1.0, 0.0],\n",
    "        [0.0, 1.0, 0.0],\n",
    "        [1.0, 2.0, 0.0],\n",
    "        [0.0, 2.0, 0.0],\n",
    "        [1.0, 3.0, 0.0],\n",
    "        [0.0, 3.0, 0.0],\n",
    "    ]\n",
    ")\n",
    "\n",
    "strips = np.array([8, 0, 1, 2, 3, 4, 5, 6, 7])\n",
    "\n",
    "\n",
    "# build the mesh\n",
    "mesh = pv.PolyData(points, strips=strips)\n",
    "#mesh.plot()\n",
    "\n",
    "pl = pv.IPlotter()\n",
    "pl.add_mesh(mesh, show_edges=True)\n",
    "pl.add_point_labels(mesh.points, range(mesh.n_points))\n",
    "pl.camera_position = 'yx'\n",
    "pl.camera.zoom(1.2)\n",
    "pl.show()\n"
   ]
  },
  {
   "cell_type": "code",
   "execution_count": null,
   "id": "c24a7c2f-061b-484c-ba48-1afa48c74fd9",
   "metadata": {},
   "outputs": [],
   "source": []
  }
 ],
 "metadata": {
  "kernelspec": {
   "display_name": "Python 3 (ipykernel)",
   "language": "python",
   "name": "python3"
  },
  "language_info": {
   "codemirror_mode": {
    "name": "ipython",
    "version": 3
   },
   "file_extension": ".py",
   "mimetype": "text/x-python",
   "name": "python",
   "nbconvert_exporter": "python",
   "pygments_lexer": "ipython3",
   "version": "3.9.13"
  }
 },
 "nbformat": 4,
 "nbformat_minor": 5
}
