{
 "cells": [
  {
   "cell_type": "markdown",
   "id": "467ad530-7547-46d1-ab3a-9d5bf9d254cf",
   "metadata": {},
   "source": [
    "#Pyvista\n",
    "\n",
    "https://stackoverflow.com/questions/54898657/i-want-to-generate-a-mesh-from-a-point-cloud-in-python"
   ]
  },
  {
   "cell_type": "code",
   "execution_count": null,
   "id": "a0eed424-38ce-40b9-9f95-9c8ab4735833",
   "metadata": {},
   "outputs": [],
   "source": [
    "import numpy as np\n",
    "import pyvista as pv\n",
    "import pandas as pd\n",
    "\n",
    "csv = \"ext_array.csv\"\n",
    "df = pd.read_csv(csv)\n",
    "\n",
    "x = df.to_numpy()\n",
    "\n",
    "# points is a 3D numpy array (n_points, 3) coordinates of a sphere\n",
    "cloud = pv.PolyData(x)\n",
    "cloud.plot(point_size=1)\n",
    "\n"
   ]
  },
  {
   "cell_type": "code",
   "execution_count": null,
   "id": "a2b35622-f33b-4762-aaa1-f6a567ca42b7",
   "metadata": {},
   "outputs": [],
   "source": [
    "surf = cloud.delaunay_2d()\n",
    "surf.plot(show_edges=True)"
   ]
  },
  {
   "cell_type": "code",
   "execution_count": null,
   "id": "0398a90d-0ba7-4972-b594-1b502c9bed63",
   "metadata": {},
   "outputs": [],
   "source": [
    "volume = cloud.delaunay_3d(tol=5., alpha=10)\n",
    "shell = volume.extract_geometry()\n",
    "shell.plot(show_edges=True)"
   ]
  },
  {
   "cell_type": "code",
   "execution_count": null,
   "id": "4deeae7a-135f-4872-b731-823468736b87",
   "metadata": {},
   "outputs": [],
   "source": [
    "surf = cloud.reconstruct_surface(sample_spacing=10, nbr_sz = 30)\n",
    "pl = pv.Plotter()\n",
    "pl.add_points(cloud, color=(255,0,0))\n",
    "pl.add_mesh(surf, show_edges=True)\n",
    "pl.show()"
   ]
  },
  {
   "cell_type": "code",
   "execution_count": null,
   "id": "f4579536-3ee1-424b-88bd-8023e7c66ffe",
   "metadata": {},
   "outputs": [],
   "source": [
    "import numpy as np\n",
    "\n",
    "import pyvista as pv\n",
    "\n",
    "# Create an array of points\n",
    "points = np.array(\n",
    "    [\n",
    "        [1.0, 0.0, 0.0],\n",
    "        [0.0, 0.0, 0.0],\n",
    "        [1.0, 1.0, 0.0],\n",
    "        [0.0, 1.0, 0.0],\n",
    "        [1.0, 2.0, 0.0],\n",
    "        [0.0, 2.0, 0.0],\n",
    "        [1.0, 3.0, 0.0],\n",
    "        [0.0, 3.0, 0.0],\n",
    "    ]\n",
    ")\n",
    "\n",
    "strips = np.array([8, 0, 1, 2, 3, 4, 5, 6, 7])\n",
    "\n",
    "\n",
    "# build the mesh\n",
    "mesh = pv.PolyData(points, strips=strips)\n",
    "#mesh.plot()\n",
    "\n",
    "pl = pv.Plotter()\n",
    "pl.add_mesh(mesh, show_edges=True)\n",
    "pl.add_point_labels(mesh.points, range(mesh.n_points))\n",
    "pl.camera_position = 'yx'\n",
    "pl.camera.zoom(1.2)\n",
    "pl.show()\n"
   ]
  },
  {
   "cell_type": "code",
   "execution_count": null,
   "id": "c24a7c2f-061b-484c-ba48-1afa48c74fd9",
   "metadata": {},
   "outputs": [],
   "source": []
  },
  {
   "cell_type": "markdown",
   "id": "6e1b8ab4-358a-44e1-9027-48668cf5e8b0",
   "metadata": {},
   "source": [
    "Masked Triangulations"
   ]
  },
  {
   "cell_type": "code",
   "execution_count": null,
   "id": "f782691c-4bda-4c1f-ac68-d7ea87e2d0e8",
   "metadata": {},
   "outputs": [],
   "source": [
    "x = np.arange(10, dtype=float)\n",
    "xx, yy, zz = np.meshgrid(x, x, [0])\n",
    "points = np.column_stack((xx.ravel(order=\"F\"), yy.ravel(order=\"F\"), zz.ravel(order=\"F\")))\n",
    "# Perturb the points\n",
    "points[:, 0] += np.random.rand(len(points)) * 0.3\n",
    "points[:, 1] += np.random.rand(len(points)) * 0.3\n",
    "# Create the point cloud mesh to triangulate from the coordinates\n",
    "cloud = pv.PolyData(points)\n",
    "cloud"
   ]
  },
  {
   "cell_type": "code",
   "execution_count": null,
   "id": "4499809c-c29b-4353-bd8b-d5a61f39d1e8",
   "metadata": {},
   "outputs": [],
   "source": [
    "surf = cloud.delaunay_2d()\n",
    "surf.plot(cpos=\"xy\", show_edges=True)"
   ]
  }
 ],
 "metadata": {
  "kernelspec": {
   "display_name": "Python 3 (ipykernel)",
   "language": "python",
   "name": "python3"
  },
  "language_info": {
   "codemirror_mode": {
    "name": "ipython",
    "version": 3
   },
   "file_extension": ".py",
   "mimetype": "text/x-python",
   "name": "python",
   "nbconvert_exporter": "python",
   "pygments_lexer": "ipython3",
   "version": "3.9.13"
  }
 },
 "nbformat": 4,
 "nbformat_minor": 5
}
