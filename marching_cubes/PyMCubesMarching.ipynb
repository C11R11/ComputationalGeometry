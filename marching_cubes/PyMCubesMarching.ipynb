{
 "cells": [
  {
   "cell_type": "code",
   "execution_count": null,
   "id": "8c50c875",
   "metadata": {},
   "outputs": [],
   "source": [
    "import numpy as np\n",
    "import mcubes\n",
    "import open3d as o3d\n",
    "import matplotlib.pyplot as plt"
   ]
  },
  {
   "cell_type": "code",
   "execution_count": null,
   "id": "6eb0bc1a",
   "metadata": {},
   "outputs": [],
   "source": [
    "np.mgrid[:30, :30, :30]"
   ]
  },
  {
   "cell_type": "code",
   "execution_count": null,
   "id": "9cfdaae1",
   "metadata": {},
   "outputs": [],
   "source": [
    "# Create a data volume (30 x 30 x 30)\n",
    "X, Y, Z = np.mgrid[:30, :30, :30]\n",
    "u = (X-10)**2 + (Y-10)**2 + (Z-10)**2 - 8**2\n",
    "f = X -2\n",
    "o = Y +2\n",
    "\n",
    "xy = f + o"
   ]
  },
  {
   "cell_type": "code",
   "execution_count": null,
   "id": "19c9c172",
   "metadata": {},
   "outputs": [],
   "source": [
    "fig = plt.figure()\n",
    "ax = fig.add_subplot(111,projection='3d')\n",
    "plt.plot(X[:,0], X[:,1], X[:,2])\n",
    "plt.show()"
   ]
  },
  {
   "cell_type": "code",
   "execution_count": null,
   "id": "3b3f1819",
   "metadata": {},
   "outputs": [],
   "source": [
    "f.shape, f.size, f.ndim, f"
   ]
  },
  {
   "cell_type": "code",
   "execution_count": null,
   "id": "1619c1a4",
   "metadata": {},
   "outputs": [],
   "source": [
    "# Extract the 0-isosurface\n",
    "vertices, triangles = mcubes.marching_cubes(xy, 0)\n",
    "\n",
    "fig = plt.figure()\n",
    "ax = fig.add_subplot(111,projection='3d')\n",
    "plt.plot(vertices[:,0],vertices[:,1],vertices[:,2], \"o\",  alpha=1)\n",
    "plt.show()"
   ]
  },
  {
   "cell_type": "code",
   "execution_count": null,
   "id": "b506b962",
   "metadata": {},
   "outputs": [],
   "source": [
    "vertices, triangles"
   ]
  },
  {
   "cell_type": "code",
   "execution_count": null,
   "id": "f6d3429a",
   "metadata": {},
   "outputs": [],
   "source": []
  },
  {
   "cell_type": "code",
   "execution_count": null,
   "id": "f1e7c627",
   "metadata": {},
   "outputs": [],
   "source": [
    "mcubes.export_obj(vertices, triangles, 'mcubes.obj')"
   ]
  },
  {
   "cell_type": "code",
   "execution_count": null,
   "id": "75a7a6f6",
   "metadata": {},
   "outputs": [],
   "source": [
    "mesh = o3d.io.read_triangle_mesh(\"mcubes.obj\")\n",
    "o3d.visualization.draw_geometries([mesh], mesh_show_wireframe=True)"
   ]
  },
  {
   "cell_type": "code",
   "execution_count": null,
   "id": "662c3e40",
   "metadata": {},
   "outputs": [],
   "source": []
  },
  {
   "cell_type": "code",
   "execution_count": null,
   "id": "976474bd",
   "metadata": {},
   "outputs": [],
   "source": []
  },
  {
   "cell_type": "code",
   "execution_count": null,
   "id": "e237faa6",
   "metadata": {},
   "outputs": [],
   "source": []
  },
  {
   "cell_type": "code",
   "execution_count": null,
   "id": "1054b1f2",
   "metadata": {},
   "outputs": [],
   "source": []
  },
  {
   "cell_type": "code",
   "execution_count": null,
   "id": "8d006bc7",
   "metadata": {},
   "outputs": [],
   "source": [
    "# plotting\n",
    "#x=np.linspace(-5,5,11)\n",
    "#y=np.linspace(-5,5,11)\n",
    "\n",
    "#x, y = np.mgrid[:30, :30,]\n",
    "#Z= X**2+Y**2\n",
    "\n",
    "X, Y  = np.mgrid[:10, :10]\n",
    "Z = np.ones((10,10))\n",
    "u = (X+2)**2 + (Y+2)**2 + Z**2 \n",
    "\n",
    "print(Z.ndim)\n",
    "\n",
    "fig = plt.figure()\n",
    "ax = plt.axes(projection='3d')\n",
    "ax.plot_surface(X, Y, u, cmap=\"plasma\", linewidth=0, antialiased=False, alpha=0.5)\n",
    "ax.set_xlabel('x')\n",
    "ax.set_ylabel('y')\n",
    "ax.set_zlabel('z');\n",
    "# rotation\n",
    "ax.view_init(45,70)\n",
    "plt.show()"
   ]
  },
  {
   "cell_type": "code",
   "execution_count": null,
   "id": "24fb4bd0",
   "metadata": {},
   "outputs": [],
   "source": []
  },
  {
   "cell_type": "code",
   "execution_count": null,
   "id": "feb271b0",
   "metadata": {},
   "outputs": [],
   "source": []
  },
  {
   "cell_type": "code",
   "execution_count": null,
   "id": "7f02dc9e",
   "metadata": {},
   "outputs": [],
   "source": []
  },
  {
   "cell_type": "code",
   "execution_count": null,
   "id": "14507b95",
   "metadata": {},
   "outputs": [],
   "source": [
    "import matplotlib.pyplot as plt\n",
    "import numpy as np\n",
    "\n",
    "\n",
    "fig = plt.figure()\n",
    "ax = fig.add_subplot(projection='3d')\n",
    "\n",
    "# Make data\n",
    "u = np.linspace(0, 2 * np.pi, 100)\n",
    "v = np.linspace(0, np.pi, 100)\n",
    "x = 10 * np.outer(np.cos(u), np.sin(v))\n",
    "y = 10 * np.outer(np.sin(u), np.sin(v))\n",
    "z = 10 * np.outer(np.ones(np.size(u)), np.cos(v))\n",
    "\n",
    "# Plot the surface\n",
    "ax.plot_surface(x, y, z)\n",
    "\n",
    "# Set an equal aspect ratio\n",
    "ax.set_aspect('auto')\n",
    "\n",
    "plt.show()"
   ]
  },
  {
   "cell_type": "code",
   "execution_count": null,
   "id": "f4f61d57",
   "metadata": {},
   "outputs": [],
   "source": [
    "x, x.shape, x.ndim"
   ]
  },
  {
   "cell_type": "code",
   "execution_count": null,
   "id": "2ac906a6",
   "metadata": {},
   "outputs": [],
   "source": [
    "len(u), u.shape, u.ndim, u"
   ]
  },
  {
   "cell_type": "code",
   "execution_count": null,
   "id": "291fcb0d",
   "metadata": {},
   "outputs": [],
   "source": [
    "np.ones(np.size(u)), np.size(u), np.cos(v)"
   ]
  },
  {
   "cell_type": "code",
   "execution_count": null,
   "id": "4a1a1488",
   "metadata": {},
   "outputs": [],
   "source": []
  },
  {
   "cell_type": "code",
   "execution_count": null,
   "id": "d2e75081",
   "metadata": {},
   "outputs": [],
   "source": []
  },
  {
   "cell_type": "code",
   "execution_count": null,
   "id": "84eacf6c",
   "metadata": {},
   "outputs": [],
   "source": [
    "X, Y, Z = np.mgrid[:30, :30, :30]"
   ]
  },
  {
   "cell_type": "code",
   "execution_count": null,
   "id": "73cef0e2",
   "metadata": {},
   "outputs": [],
   "source": [
    "X.shape, X.size, X.ndim"
   ]
  },
  {
   "cell_type": "code",
   "execution_count": null,
   "id": "4abd9a9f",
   "metadata": {},
   "outputs": [],
   "source": [
    "only_x = X.reshape(1,-1,3)"
   ]
  },
  {
   "cell_type": "code",
   "execution_count": null,
   "id": "1518cf95",
   "metadata": {},
   "outputs": [],
   "source": [
    "only_x"
   ]
  },
  {
   "cell_type": "code",
   "execution_count": null,
   "id": "23c0d1a6",
   "metadata": {},
   "outputs": [],
   "source": []
  },
  {
   "cell_type": "code",
   "execution_count": null,
   "id": "800b76e2",
   "metadata": {},
   "outputs": [],
   "source": [
    "X = np.mgrid[:5, :5]\n",
    "Y = np.mgrid[:5, :5]\n",
    "Z = np.mgrid[:5, :5]\n",
    "xx, yy, zz = np.meshgrid(X,Y,Z)\n",
    "print(xx.shape, yy.shape, zz.shape)"
   ]
  },
  {
   "cell_type": "code",
   "execution_count": null,
   "id": "65c530bf",
   "metadata": {},
   "outputs": [],
   "source": [
    "fig = plt.figure()\n",
    "ax = fig.add_subplot(111, projection='3d')\n",
    "ax.scatter(xx, yy, zz)\n",
    "#ax.set_zlim(12, 15)\n",
    "plt.show()"
   ]
  },
  {
   "cell_type": "code",
   "execution_count": null,
   "id": "7be6f7de",
   "metadata": {},
   "outputs": [],
   "source": []
  },
  {
   "cell_type": "code",
   "execution_count": null,
   "id": "5f6823ef",
   "metadata": {},
   "outputs": [],
   "source": []
  },
  {
   "cell_type": "code",
   "execution_count": null,
   "id": "b3a71930",
   "metadata": {},
   "outputs": [],
   "source": [
    "import numpy as np\n",
    "import mcubes\n",
    "import open3d as o3d\n",
    "\n",
    "lengh = 2\n",
    "width = 2\n",
    "height = 2\n",
    "n = 3\n",
    "\n",
    "# Create the volume\n",
    "#f = lambda x, y, z: (2*x/lengh)**n + (2*y/width)**n + (2*z/height)**n\n",
    "f = lambda x, y, z: (x-1)**2 + (y-1)**1 + (z-1)**2 \n",
    "\n",
    "# Extract the 16-isosurface\n",
    "vertices, triangles = mcubes.marching_cubes_func((-10,-10,-10), (10,10,10), 100, 100, 100, f, 1)\n",
    "\n",
    "fig = plt.figure()\n",
    "ax = fig.add_subplot(111,projection='3d')\n",
    "plt.plot(vertices[:,0],vertices[:,1],vertices[:,2], \"o\",  alpha=1)\n",
    "plt.show()\n",
    "\n",
    "# Export the result to sphere.dae (requires PyCollada)\n",
    "#mcubes.export_mesh(vertices, triangles, \"sphere.dae\", \"MySphere\")\n",
    "\n",
    "# Or export to an OBJ file\n",
    "mcubes.export_obj(vertices, triangles, 'corbata.obj')\n",
    "\n",
    "mesh = o3d.io.read_triangle_mesh(\"corbata.obj\")\n",
    "o3d.visualization.draw_geometries([mesh], mesh_show_wireframe=True)"
   ]
  },
  {
   "cell_type": "code",
   "execution_count": null,
   "id": "e8fe6362",
   "metadata": {},
   "outputs": [],
   "source": []
  },
  {
   "cell_type": "code",
   "execution_count": null,
   "id": "8d2705b5",
   "metadata": {},
   "outputs": [],
   "source": []
  },
  {
   "cell_type": "code",
   "execution_count": null,
   "id": "ac690b95",
   "metadata": {},
   "outputs": [],
   "source": [
    "\n",
    "# Import libraries\n",
    "import matplotlib.pyplot as plt\n",
    "from mpl_toolkits.mplot3d import Axes3D\n",
    "import numpy as np\n",
    " \n",
    " \n",
    "# Create axis\n",
    "axes = [5, 5, 5]\n",
    " \n",
    "# Create Data\n",
    "data = np.ones(axes, dtype=int)\n",
    "\n",
    "print(data.shape, data.size, data)\n",
    " \n",
    "# Control Transparency\n",
    "alpha = 0.9\n",
    " \n",
    "# Control colour\n",
    "colors = np.empty(axes + [4], dtype=np.float32)\n",
    " \n",
    "colors[:] = [1, 0, 0, alpha]  # red\n",
    " \n",
    "# Plot figure\n",
    "fig = plt.figure()\n",
    "ax = fig.add_subplot(111, projection='3d')\n",
    " \n",
    "# Voxels is used to customizations of the\n",
    "# sizes, positions and colors.\n",
    "ax.voxels(data, facecolors=colors)"
   ]
  },
  {
   "cell_type": "code",
   "execution_count": null,
   "id": "50e35eef",
   "metadata": {},
   "outputs": [],
   "source": []
  },
  {
   "cell_type": "code",
   "execution_count": 12,
   "id": "5cb3a4b7-e45c-487d-beb4-a7f2e39121b4",
   "metadata": {},
   "outputs": [],
   "source": [
    "import numpy as np\n",
    "\n",
    "a = np.zeros([3,3])\n",
    "\n",
    "X = np.mgrid[:10, :10, :10]\n",
    "Y = np.mgrid[:3, :3]\n",
    "Z = np.mgrid[:3, :3]"
   ]
  },
  {
   "cell_type": "code",
   "execution_count": 14,
   "id": "05b98781-01d0-47a4-8267-a4c26614c40c",
   "metadata": {},
   "outputs": [],
   "source": [
    "a = np.zeros([3,3])"
   ]
  },
  {
   "cell_type": "code",
   "execution_count": 15,
   "id": "89e8b068-fc93-4033-9228-44e21d79c890",
   "metadata": {},
   "outputs": [
    {
     "data": {
      "text/plain": [
       "array([[0., 0., 0.],\n",
       "       [0., 0., 0.],\n",
       "       [0., 0., 0.]])"
      ]
     },
     "execution_count": 15,
     "metadata": {},
     "output_type": "execute_result"
    }
   ],
   "source": [
    "a"
   ]
  },
  {
   "cell_type": "code",
   "execution_count": 13,
   "id": "3e402970-76d8-4316-bdf6-afff6597ac5a",
   "metadata": {},
   "outputs": [
    {
     "data": {
      "text/plain": [
       "(array([[[[0, 0, 0, ..., 0, 0, 0],\n",
       "          [0, 0, 0, ..., 0, 0, 0],\n",
       "          [0, 0, 0, ..., 0, 0, 0],\n",
       "          ...,\n",
       "          [0, 0, 0, ..., 0, 0, 0],\n",
       "          [0, 0, 0, ..., 0, 0, 0],\n",
       "          [0, 0, 0, ..., 0, 0, 0]],\n",
       " \n",
       "         [[1, 1, 1, ..., 1, 1, 1],\n",
       "          [1, 1, 1, ..., 1, 1, 1],\n",
       "          [1, 1, 1, ..., 1, 1, 1],\n",
       "          ...,\n",
       "          [1, 1, 1, ..., 1, 1, 1],\n",
       "          [1, 1, 1, ..., 1, 1, 1],\n",
       "          [1, 1, 1, ..., 1, 1, 1]],\n",
       " \n",
       "         [[2, 2, 2, ..., 2, 2, 2],\n",
       "          [2, 2, 2, ..., 2, 2, 2],\n",
       "          [2, 2, 2, ..., 2, 2, 2],\n",
       "          ...,\n",
       "          [2, 2, 2, ..., 2, 2, 2],\n",
       "          [2, 2, 2, ..., 2, 2, 2],\n",
       "          [2, 2, 2, ..., 2, 2, 2]],\n",
       " \n",
       "         ...,\n",
       " \n",
       "         [[7, 7, 7, ..., 7, 7, 7],\n",
       "          [7, 7, 7, ..., 7, 7, 7],\n",
       "          [7, 7, 7, ..., 7, 7, 7],\n",
       "          ...,\n",
       "          [7, 7, 7, ..., 7, 7, 7],\n",
       "          [7, 7, 7, ..., 7, 7, 7],\n",
       "          [7, 7, 7, ..., 7, 7, 7]],\n",
       " \n",
       "         [[8, 8, 8, ..., 8, 8, 8],\n",
       "          [8, 8, 8, ..., 8, 8, 8],\n",
       "          [8, 8, 8, ..., 8, 8, 8],\n",
       "          ...,\n",
       "          [8, 8, 8, ..., 8, 8, 8],\n",
       "          [8, 8, 8, ..., 8, 8, 8],\n",
       "          [8, 8, 8, ..., 8, 8, 8]],\n",
       " \n",
       "         [[9, 9, 9, ..., 9, 9, 9],\n",
       "          [9, 9, 9, ..., 9, 9, 9],\n",
       "          [9, 9, 9, ..., 9, 9, 9],\n",
       "          ...,\n",
       "          [9, 9, 9, ..., 9, 9, 9],\n",
       "          [9, 9, 9, ..., 9, 9, 9],\n",
       "          [9, 9, 9, ..., 9, 9, 9]]],\n",
       " \n",
       " \n",
       "        [[[0, 0, 0, ..., 0, 0, 0],\n",
       "          [1, 1, 1, ..., 1, 1, 1],\n",
       "          [2, 2, 2, ..., 2, 2, 2],\n",
       "          ...,\n",
       "          [7, 7, 7, ..., 7, 7, 7],\n",
       "          [8, 8, 8, ..., 8, 8, 8],\n",
       "          [9, 9, 9, ..., 9, 9, 9]],\n",
       " \n",
       "         [[0, 0, 0, ..., 0, 0, 0],\n",
       "          [1, 1, 1, ..., 1, 1, 1],\n",
       "          [2, 2, 2, ..., 2, 2, 2],\n",
       "          ...,\n",
       "          [7, 7, 7, ..., 7, 7, 7],\n",
       "          [8, 8, 8, ..., 8, 8, 8],\n",
       "          [9, 9, 9, ..., 9, 9, 9]],\n",
       " \n",
       "         [[0, 0, 0, ..., 0, 0, 0],\n",
       "          [1, 1, 1, ..., 1, 1, 1],\n",
       "          [2, 2, 2, ..., 2, 2, 2],\n",
       "          ...,\n",
       "          [7, 7, 7, ..., 7, 7, 7],\n",
       "          [8, 8, 8, ..., 8, 8, 8],\n",
       "          [9, 9, 9, ..., 9, 9, 9]],\n",
       " \n",
       "         ...,\n",
       " \n",
       "         [[0, 0, 0, ..., 0, 0, 0],\n",
       "          [1, 1, 1, ..., 1, 1, 1],\n",
       "          [2, 2, 2, ..., 2, 2, 2],\n",
       "          ...,\n",
       "          [7, 7, 7, ..., 7, 7, 7],\n",
       "          [8, 8, 8, ..., 8, 8, 8],\n",
       "          [9, 9, 9, ..., 9, 9, 9]],\n",
       " \n",
       "         [[0, 0, 0, ..., 0, 0, 0],\n",
       "          [1, 1, 1, ..., 1, 1, 1],\n",
       "          [2, 2, 2, ..., 2, 2, 2],\n",
       "          ...,\n",
       "          [7, 7, 7, ..., 7, 7, 7],\n",
       "          [8, 8, 8, ..., 8, 8, 8],\n",
       "          [9, 9, 9, ..., 9, 9, 9]],\n",
       " \n",
       "         [[0, 0, 0, ..., 0, 0, 0],\n",
       "          [1, 1, 1, ..., 1, 1, 1],\n",
       "          [2, 2, 2, ..., 2, 2, 2],\n",
       "          ...,\n",
       "          [7, 7, 7, ..., 7, 7, 7],\n",
       "          [8, 8, 8, ..., 8, 8, 8],\n",
       "          [9, 9, 9, ..., 9, 9, 9]]],\n",
       " \n",
       " \n",
       "        [[[0, 1, 2, ..., 7, 8, 9],\n",
       "          [0, 1, 2, ..., 7, 8, 9],\n",
       "          [0, 1, 2, ..., 7, 8, 9],\n",
       "          ...,\n",
       "          [0, 1, 2, ..., 7, 8, 9],\n",
       "          [0, 1, 2, ..., 7, 8, 9],\n",
       "          [0, 1, 2, ..., 7, 8, 9]],\n",
       " \n",
       "         [[0, 1, 2, ..., 7, 8, 9],\n",
       "          [0, 1, 2, ..., 7, 8, 9],\n",
       "          [0, 1, 2, ..., 7, 8, 9],\n",
       "          ...,\n",
       "          [0, 1, 2, ..., 7, 8, 9],\n",
       "          [0, 1, 2, ..., 7, 8, 9],\n",
       "          [0, 1, 2, ..., 7, 8, 9]],\n",
       " \n",
       "         [[0, 1, 2, ..., 7, 8, 9],\n",
       "          [0, 1, 2, ..., 7, 8, 9],\n",
       "          [0, 1, 2, ..., 7, 8, 9],\n",
       "          ...,\n",
       "          [0, 1, 2, ..., 7, 8, 9],\n",
       "          [0, 1, 2, ..., 7, 8, 9],\n",
       "          [0, 1, 2, ..., 7, 8, 9]],\n",
       " \n",
       "         ...,\n",
       " \n",
       "         [[0, 1, 2, ..., 7, 8, 9],\n",
       "          [0, 1, 2, ..., 7, 8, 9],\n",
       "          [0, 1, 2, ..., 7, 8, 9],\n",
       "          ...,\n",
       "          [0, 1, 2, ..., 7, 8, 9],\n",
       "          [0, 1, 2, ..., 7, 8, 9],\n",
       "          [0, 1, 2, ..., 7, 8, 9]],\n",
       " \n",
       "         [[0, 1, 2, ..., 7, 8, 9],\n",
       "          [0, 1, 2, ..., 7, 8, 9],\n",
       "          [0, 1, 2, ..., 7, 8, 9],\n",
       "          ...,\n",
       "          [0, 1, 2, ..., 7, 8, 9],\n",
       "          [0, 1, 2, ..., 7, 8, 9],\n",
       "          [0, 1, 2, ..., 7, 8, 9]],\n",
       " \n",
       "         [[0, 1, 2, ..., 7, 8, 9],\n",
       "          [0, 1, 2, ..., 7, 8, 9],\n",
       "          [0, 1, 2, ..., 7, 8, 9],\n",
       "          ...,\n",
       "          [0, 1, 2, ..., 7, 8, 9],\n",
       "          [0, 1, 2, ..., 7, 8, 9],\n",
       "          [0, 1, 2, ..., 7, 8, 9]]]]),\n",
       " (3, 10, 10, 10),\n",
       " 3000,\n",
       " 4)"
      ]
     },
     "execution_count": 13,
     "metadata": {},
     "output_type": "execute_result"
    }
   ],
   "source": [
    "X, X.shape, X.size, X.ndim"
   ]
  },
  {
   "cell_type": "code",
   "execution_count": null,
   "id": "fbd8d0f9-f354-451f-82aa-62812d06b093",
   "metadata": {},
   "outputs": [],
   "source": [
    "xx, yy, zz = np.meshgrid(X,Y,Z)\n",
    "print(xx.shape, yy.shape, zz.shape)"
   ]
  }
 ],
 "metadata": {
  "kernelspec": {
   "display_name": "Python 3 (ipykernel)",
   "language": "python",
   "name": "python3"
  },
  "language_info": {
   "codemirror_mode": {
    "name": "ipython",
    "version": 3
   },
   "file_extension": ".py",
   "mimetype": "text/x-python",
   "name": "python",
   "nbconvert_exporter": "python",
   "pygments_lexer": "ipython3",
   "version": "3.9.13"
  }
 },
 "nbformat": 4,
 "nbformat_minor": 5
}
