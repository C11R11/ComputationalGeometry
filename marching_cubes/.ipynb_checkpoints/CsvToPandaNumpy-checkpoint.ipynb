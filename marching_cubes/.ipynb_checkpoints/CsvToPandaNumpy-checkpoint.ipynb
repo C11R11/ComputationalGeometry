{
 "cells": [
  {
   "cell_type": "markdown",
   "id": "d236e19b-5394-49af-975c-3f20a325c9a4",
   "metadata": {},
   "source": [
    "# Pandas to arrays\n",
    "\n",
    "https://pythonguides.com/convert-pandas-dataframe-to-numpy-array/"
   ]
  },
  {
   "cell_type": "code",
   "execution_count": 2,
   "id": "ff6bdbe8-c857-4c04-87de-e564e83b4c02",
   "metadata": {},
   "outputs": [],
   "source": [
    "import pandas as pd"
   ]
  },
  {
   "cell_type": "code",
   "execution_count": 4,
   "id": "37f76f4f-4e69-4400-b636-8b967501318e",
   "metadata": {},
   "outputs": [
    {
     "data": {
      "text/html": [
       "<div>\n",
       "<style scoped>\n",
       "    .dataframe tbody tr th:only-of-type {\n",
       "        vertical-align: middle;\n",
       "    }\n",
       "\n",
       "    .dataframe tbody tr th {\n",
       "        vertical-align: top;\n",
       "    }\n",
       "\n",
       "    .dataframe thead th {\n",
       "        text-align: right;\n",
       "    }\n",
       "</style>\n",
       "<table border=\"1\" class=\"dataframe\">\n",
       "  <thead>\n",
       "    <tr style=\"text-align: right;\">\n",
       "      <th></th>\n",
       "      <th>Unnamed: 0</th>\n",
       "      <th>xcentre</th>\n",
       "      <th>ycentre</th>\n",
       "      <th>zcentre</th>\n",
       "      <th>xworld</th>\n",
       "      <th>yworld</th>\n",
       "      <th>zworld</th>\n",
       "      <th>base0609rocktype</th>\n",
       "    </tr>\n",
       "  </thead>\n",
       "  <tbody>\n",
       "    <tr>\n",
       "      <th>0</th>\n",
       "      <td>0</td>\n",
       "      <td>5.0</td>\n",
       "      <td>5.0</td>\n",
       "      <td>5.0</td>\n",
       "      <td>92925.978</td>\n",
       "      <td>20307.674</td>\n",
       "      <td>2055.0</td>\n",
       "      <td>non</td>\n",
       "    </tr>\n",
       "    <tr>\n",
       "      <th>1</th>\n",
       "      <td>1</td>\n",
       "      <td>15.0</td>\n",
       "      <td>5.0</td>\n",
       "      <td>5.0</td>\n",
       "      <td>92935.978</td>\n",
       "      <td>20307.674</td>\n",
       "      <td>2055.0</td>\n",
       "      <td>non</td>\n",
       "    </tr>\n",
       "    <tr>\n",
       "      <th>2</th>\n",
       "      <td>2</td>\n",
       "      <td>5.0</td>\n",
       "      <td>15.0</td>\n",
       "      <td>5.0</td>\n",
       "      <td>92925.978</td>\n",
       "      <td>20317.674</td>\n",
       "      <td>2055.0</td>\n",
       "      <td>non</td>\n",
       "    </tr>\n",
       "    <tr>\n",
       "      <th>3</th>\n",
       "      <td>3</td>\n",
       "      <td>15.0</td>\n",
       "      <td>15.0</td>\n",
       "      <td>5.0</td>\n",
       "      <td>92935.978</td>\n",
       "      <td>20317.674</td>\n",
       "      <td>2055.0</td>\n",
       "      <td>non</td>\n",
       "    </tr>\n",
       "    <tr>\n",
       "      <th>4</th>\n",
       "      <td>4</td>\n",
       "      <td>5.0</td>\n",
       "      <td>5.0</td>\n",
       "      <td>15.0</td>\n",
       "      <td>92925.978</td>\n",
       "      <td>20307.674</td>\n",
       "      <td>2065.0</td>\n",
       "      <td>non</td>\n",
       "    </tr>\n",
       "  </tbody>\n",
       "</table>\n",
       "</div>"
      ],
      "text/plain": [
       "   Unnamed: 0  xcentre  ycentre  zcentre     xworld     yworld  zworld  \\\n",
       "0           0      5.0      5.0      5.0  92925.978  20307.674  2055.0   \n",
       "1           1     15.0      5.0      5.0  92935.978  20307.674  2055.0   \n",
       "2           2      5.0     15.0      5.0  92925.978  20317.674  2055.0   \n",
       "3           3     15.0     15.0      5.0  92935.978  20317.674  2055.0   \n",
       "4           4      5.0      5.0     15.0  92925.978  20307.674  2065.0   \n",
       "\n",
       "  base0609rocktype  \n",
       "0              non  \n",
       "1              non  \n",
       "2              non  \n",
       "3              non  \n",
       "4              non  "
      ]
     },
     "execution_count": 4,
     "metadata": {},
     "output_type": "execute_result"
    }
   ],
   "source": [
    "csv = \"borrar_reg_intcheck.csv\"\n",
    "df = pd.read_csv(csv)\n",
    "df.head()"
   ]
  },
  {
   "cell_type": "code",
   "execution_count": 6,
   "id": "651b897c-bfd6-44bd-8d5f-9b1e2ebf0ecf",
   "metadata": {},
   "outputs": [
    {
     "data": {
      "text/html": [
       "<div>\n",
       "<style scoped>\n",
       "    .dataframe tbody tr th:only-of-type {\n",
       "        vertical-align: middle;\n",
       "    }\n",
       "\n",
       "    .dataframe tbody tr th {\n",
       "        vertical-align: top;\n",
       "    }\n",
       "\n",
       "    .dataframe thead th {\n",
       "        text-align: right;\n",
       "    }\n",
       "</style>\n",
       "<table border=\"1\" class=\"dataframe\">\n",
       "  <thead>\n",
       "    <tr style=\"text-align: right;\">\n",
       "      <th></th>\n",
       "      <th>Unnamed: 0</th>\n",
       "      <th>xcentre</th>\n",
       "      <th>ycentre</th>\n",
       "      <th>zcentre</th>\n",
       "      <th>xworld</th>\n",
       "      <th>yworld</th>\n",
       "      <th>zworld</th>\n",
       "    </tr>\n",
       "  </thead>\n",
       "  <tbody>\n",
       "    <tr>\n",
       "      <th>count</th>\n",
       "      <td>763980.000000</td>\n",
       "      <td>763980.000000</td>\n",
       "      <td>763980.000000</td>\n",
       "      <td>763980.000000</td>\n",
       "      <td>763980.000000</td>\n",
       "      <td>763980.000000</td>\n",
       "      <td>763980.000000</td>\n",
       "    </tr>\n",
       "    <tr>\n",
       "      <th>mean</th>\n",
       "      <td>381989.500000</td>\n",
       "      <td>420.000000</td>\n",
       "      <td>425.000000</td>\n",
       "      <td>535.000000</td>\n",
       "      <td>93340.977999</td>\n",
       "      <td>20727.674000</td>\n",
       "      <td>2585.000000</td>\n",
       "    </tr>\n",
       "    <tr>\n",
       "      <th>std</th>\n",
       "      <td>220542.173666</td>\n",
       "      <td>242.470088</td>\n",
       "      <td>245.357044</td>\n",
       "      <td>308.869106</td>\n",
       "      <td>242.470088</td>\n",
       "      <td>245.357044</td>\n",
       "      <td>308.869106</td>\n",
       "    </tr>\n",
       "    <tr>\n",
       "      <th>min</th>\n",
       "      <td>0.000000</td>\n",
       "      <td>5.000000</td>\n",
       "      <td>5.000000</td>\n",
       "      <td>5.000000</td>\n",
       "      <td>92925.978000</td>\n",
       "      <td>20307.674000</td>\n",
       "      <td>2055.000000</td>\n",
       "    </tr>\n",
       "    <tr>\n",
       "      <th>25%</th>\n",
       "      <td>190994.750000</td>\n",
       "      <td>212.500000</td>\n",
       "      <td>215.000000</td>\n",
       "      <td>265.000000</td>\n",
       "      <td>93133.478000</td>\n",
       "      <td>20517.674000</td>\n",
       "      <td>2315.000000</td>\n",
       "    </tr>\n",
       "    <tr>\n",
       "      <th>50%</th>\n",
       "      <td>381989.500000</td>\n",
       "      <td>420.000000</td>\n",
       "      <td>425.000000</td>\n",
       "      <td>535.000000</td>\n",
       "      <td>93340.978000</td>\n",
       "      <td>20727.674000</td>\n",
       "      <td>2585.000000</td>\n",
       "    </tr>\n",
       "    <tr>\n",
       "      <th>75%</th>\n",
       "      <td>572984.250000</td>\n",
       "      <td>627.500000</td>\n",
       "      <td>635.000000</td>\n",
       "      <td>805.000000</td>\n",
       "      <td>93548.478000</td>\n",
       "      <td>20937.674000</td>\n",
       "      <td>2855.000000</td>\n",
       "    </tr>\n",
       "    <tr>\n",
       "      <th>max</th>\n",
       "      <td>763979.000000</td>\n",
       "      <td>835.000000</td>\n",
       "      <td>845.000000</td>\n",
       "      <td>1065.000000</td>\n",
       "      <td>93755.978000</td>\n",
       "      <td>21147.674000</td>\n",
       "      <td>3115.000000</td>\n",
       "    </tr>\n",
       "  </tbody>\n",
       "</table>\n",
       "</div>"
      ],
      "text/plain": [
       "          Unnamed: 0        xcentre        ycentre        zcentre  \\\n",
       "count  763980.000000  763980.000000  763980.000000  763980.000000   \n",
       "mean   381989.500000     420.000000     425.000000     535.000000   \n",
       "std    220542.173666     242.470088     245.357044     308.869106   \n",
       "min         0.000000       5.000000       5.000000       5.000000   \n",
       "25%    190994.750000     212.500000     215.000000     265.000000   \n",
       "50%    381989.500000     420.000000     425.000000     535.000000   \n",
       "75%    572984.250000     627.500000     635.000000     805.000000   \n",
       "max    763979.000000     835.000000     845.000000    1065.000000   \n",
       "\n",
       "              xworld         yworld         zworld  \n",
       "count  763980.000000  763980.000000  763980.000000  \n",
       "mean    93340.977999   20727.674000    2585.000000  \n",
       "std       242.470088     245.357044     308.869106  \n",
       "min     92925.978000   20307.674000    2055.000000  \n",
       "25%     93133.478000   20517.674000    2315.000000  \n",
       "50%     93340.978000   20727.674000    2585.000000  \n",
       "75%     93548.478000   20937.674000    2855.000000  \n",
       "max     93755.978000   21147.674000    3115.000000  "
      ]
     },
     "execution_count": 6,
     "metadata": {},
     "output_type": "execute_result"
    }
   ],
   "source": [
    "df.describe()"
   ]
  },
  {
   "cell_type": "code",
   "execution_count": 42,
   "id": "891dbf69-5b9d-43cd-b79c-089c1e6b2b80",
   "metadata": {},
   "outputs": [],
   "source": [
    "auxFrame = df.filter(items=[\"xcentre\", \"ycentre\", \"zcentre\"])[:100000]"
   ]
  },
  {
   "cell_type": "code",
   "execution_count": 43,
   "id": "f8e1f340-3218-4886-8c51-cff2c0d77d6b",
   "metadata": {},
   "outputs": [
    {
     "data": {
      "text/html": [
       "<div>\n",
       "<style scoped>\n",
       "    .dataframe tbody tr th:only-of-type {\n",
       "        vertical-align: middle;\n",
       "    }\n",
       "\n",
       "    .dataframe tbody tr th {\n",
       "        vertical-align: top;\n",
       "    }\n",
       "\n",
       "    .dataframe thead th {\n",
       "        text-align: right;\n",
       "    }\n",
       "</style>\n",
       "<table border=\"1\" class=\"dataframe\">\n",
       "  <thead>\n",
       "    <tr style=\"text-align: right;\">\n",
       "      <th></th>\n",
       "      <th>xcentre</th>\n",
       "      <th>ycentre</th>\n",
       "      <th>zcentre</th>\n",
       "    </tr>\n",
       "  </thead>\n",
       "  <tbody>\n",
       "    <tr>\n",
       "      <th>count</th>\n",
       "      <td>100000.000000</td>\n",
       "      <td>100000.000000</td>\n",
       "      <td>100000.000000</td>\n",
       "    </tr>\n",
       "    <tr>\n",
       "      <th>mean</th>\n",
       "      <td>419.852000</td>\n",
       "      <td>424.834000</td>\n",
       "      <td>70.032000</td>\n",
       "    </tr>\n",
       "    <tr>\n",
       "      <th>std</th>\n",
       "      <td>242.536196</td>\n",
       "      <td>245.449373</td>\n",
       "      <td>40.335285</td>\n",
       "    </tr>\n",
       "    <tr>\n",
       "      <th>min</th>\n",
       "      <td>5.000000</td>\n",
       "      <td>5.000000</td>\n",
       "      <td>5.000000</td>\n",
       "    </tr>\n",
       "    <tr>\n",
       "      <th>25%</th>\n",
       "      <td>205.000000</td>\n",
       "      <td>215.000000</td>\n",
       "      <td>35.000000</td>\n",
       "    </tr>\n",
       "    <tr>\n",
       "      <th>50%</th>\n",
       "      <td>415.000000</td>\n",
       "      <td>425.000000</td>\n",
       "      <td>75.000000</td>\n",
       "    </tr>\n",
       "    <tr>\n",
       "      <th>75%</th>\n",
       "      <td>625.000000</td>\n",
       "      <td>635.000000</td>\n",
       "      <td>105.000000</td>\n",
       "    </tr>\n",
       "    <tr>\n",
       "      <th>max</th>\n",
       "      <td>835.000000</td>\n",
       "      <td>845.000000</td>\n",
       "      <td>155.000000</td>\n",
       "    </tr>\n",
       "  </tbody>\n",
       "</table>\n",
       "</div>"
      ],
      "text/plain": [
       "             xcentre        ycentre        zcentre\n",
       "count  100000.000000  100000.000000  100000.000000\n",
       "mean      419.852000     424.834000      70.032000\n",
       "std       242.536196     245.449373      40.335285\n",
       "min         5.000000       5.000000       5.000000\n",
       "25%       205.000000     215.000000      35.000000\n",
       "50%       415.000000     425.000000      75.000000\n",
       "75%       625.000000     635.000000     105.000000\n",
       "max       835.000000     845.000000     155.000000"
      ]
     },
     "execution_count": 43,
     "metadata": {},
     "output_type": "execute_result"
    }
   ],
   "source": [
    "auxFrame.describe()"
   ]
  },
  {
   "cell_type": "code",
   "execution_count": 44,
   "id": "193f8db0-4f1f-427c-8588-0ee9b0be1c78",
   "metadata": {},
   "outputs": [],
   "source": [
    "x = auxFrame.to_numpy()"
   ]
  },
  {
   "cell_type": "code",
   "execution_count": 45,
   "id": "94067794-c0bf-449d-bdd0-4ef8f112dd66",
   "metadata": {},
   "outputs": [
    {
     "data": {
      "text/plain": [
       "((100000, 3), 300000, 2)"
      ]
     },
     "execution_count": 45,
     "metadata": {},
     "output_type": "execute_result"
    }
   ],
   "source": [
    "x.shape, x.size, x.ndim"
   ]
  },
  {
   "cell_type": "code",
   "execution_count": 46,
   "id": "9f110ab4-267a-48ca-b1cb-581df9a5ee4d",
   "metadata": {},
   "outputs": [],
   "source": [
    "y = x.reshape(-1,100,10)"
   ]
  },
  {
   "cell_type": "code",
   "execution_count": 47,
   "id": "a4a77cc3-253a-4a78-a00d-e9dcfe8fa7b2",
   "metadata": {},
   "outputs": [
    {
     "data": {
      "text/plain": [
       "((300, 100, 10), 300000, 3)"
      ]
     },
     "execution_count": 47,
     "metadata": {},
     "output_type": "execute_result"
    }
   ],
   "source": [
    "y.shape, y.size, y.ndim"
   ]
  },
  {
   "cell_type": "code",
   "execution_count": 48,
   "id": "9af6e5b3-7329-4030-9533-7072fc057dfc",
   "metadata": {},
   "outputs": [
    {
     "data": {
      "text/plain": [
       "array([[[  5.,   5.,   5., ...,  15.,   5.,  15.],\n",
       "        [ 15.,   5.,   5., ...,  15.,   5.,  15.],\n",
       "        [ 15.,  15.,  15., ...,  35.,   5.,   5.],\n",
       "        ...,\n",
       "        [ 15.,   5., 805., ...,  15., 805.,  15.],\n",
       "        [ 15., 815.,  15., ..., 835.,   5.,   5.],\n",
       "        [825.,  15.,   5., ...,   5.,  15., 835.]],\n",
       "\n",
       "       [[  5.,  15., 825., ...,  15.,   5.,  25.],\n",
       "        [  5.,  15.,  25., ...,  15.,  35.,   5.],\n",
       "        [  5.,  25.,  15., ...,  35.,  15.,  15.],\n",
       "        ...,\n",
       "        [  5., 815.,  25., ..., 815.,  35.,   5.],\n",
       "        [805.,  25.,  15., ...,  35.,  15., 815.],\n",
       "        [ 35.,  15., 825., ...,   5., 825.,  35.]],\n",
       "\n",
       "       [[  5., 835.,  35., ..., 835.,  25.,  15.],\n",
       "        [825.,  35.,  15., ...,  45.,   5.,  15.],\n",
       "        [ 45.,   5.,   5., ...,   5.,   5.,  45.],\n",
       "        ...,\n",
       "        [785.,  55.,  15., ...,  45.,   5., 815.],\n",
       "        [ 45.,   5., 805., ...,   5., 805.,  45.],\n",
       "        [ 15., 815.,  45., ..., 815.,  55.,  15.]],\n",
       "\n",
       "       ...,\n",
       "\n",
       "       [[545., 785., 125., ..., 795., 125., 555.],\n",
       "        [795., 125., 545., ..., 135., 545., 795.],\n",
       "        [135., 555., 795., ..., 575., 785., 125.],\n",
       "        ...,\n",
       "        [815., 125., 505., ..., 135., 505., 815.],\n",
       "        [135., 515., 815., ..., 535., 805., 125.],\n",
       "        [525., 815., 125., ..., 805., 135., 535.]],\n",
       "\n",
       "       [[805., 135., 525., ..., 135., 545., 805.],\n",
       "        [125., 555., 805., ..., 555., 815., 125.],\n",
       "        [545., 805., 135., ..., 815., 135., 555.],\n",
       "        ...,\n",
       "        [125., 515., 825., ..., 515., 835., 125.],\n",
       "        [505., 825., 135., ..., 835., 135., 515.],\n",
       "        [835., 135., 525., ..., 125., 525., 835.]],\n",
       "\n",
       "       [[125., 535., 835., ..., 535., 825., 135.],\n",
       "        [525., 835., 135., ..., 825., 125., 555.],\n",
       "        [825., 125., 545., ..., 125., 545., 825.],\n",
       "        ...,\n",
       "        [ 65.,  15., 155., ...,   5., 145.,  95.],\n",
       "        [  5., 145.,  85., ..., 145.,  85.,   5.],\n",
       "        [155.,  95.,   5., ...,  95.,  15., 155.]]])"
      ]
     },
     "execution_count": 48,
     "metadata": {},
     "output_type": "execute_result"
    }
   ],
   "source": [
    "y"
   ]
  },
  {
   "cell_type": "code",
   "execution_count": 53,
   "id": "ffd00790-5290-4faa-b085-03267fb0469d",
   "metadata": {},
   "outputs": [],
   "source": [
    "from skimage import measure\n",
    "verts, faces, normals, values = measure.marching_cubes(y, 300)"
   ]
  },
  {
   "cell_type": "code",
   "execution_count": 54,
   "id": "a6e32df7-de2b-4dbf-8567-9e8141286f27",
   "metadata": {},
   "outputs": [],
   "source": [
    "import mcubes\n",
    "import open3d as o3d\n",
    "mcubes.export_obj(verts, faces, 'xyz.obj')\n",
    "\n",
    "mesh = o3d.io.read_triangle_mesh(\"xyz.obj\")\n",
    "o3d.visualization.draw_geometries([mesh], mesh_show_wireframe=True)"
   ]
  },
  {
   "cell_type": "code",
   "execution_count": null,
   "id": "257fe64c-845b-4fb8-875f-39aa243913ac",
   "metadata": {},
   "outputs": [],
   "source": []
  }
 ],
 "metadata": {
  "kernelspec": {
   "display_name": "Python 3 (ipykernel)",
   "language": "python",
   "name": "python3"
  },
  "language_info": {
   "codemirror_mode": {
    "name": "ipython",
    "version": 3
   },
   "file_extension": ".py",
   "mimetype": "text/x-python",
   "name": "python",
   "nbconvert_exporter": "python",
   "pygments_lexer": "ipython3",
   "version": "3.9.13"
  }
 },
 "nbformat": 4,
 "nbformat_minor": 5
}
