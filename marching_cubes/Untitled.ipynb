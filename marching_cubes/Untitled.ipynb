{
 "cells": [
  {
   "cell_type": "code",
   "execution_count": 68,
   "id": "3b18acf6-135e-4cbd-9b67-5f036927592a",
   "metadata": {},
   "outputs": [],
   "source": [
    "import numpy as np"
   ]
  },
  {
   "cell_type": "code",
   "execution_count": 29,
   "id": "b4d7a56f-7330-45a5-b530-fa9226f1eac2",
   "metadata": {},
   "outputs": [
    {
     "ename": "TypeError",
     "evalue": "'MGridClass' object is not callable",
     "output_type": "error",
     "traceback": [
      "\u001b[1;31m---------------------------------------------------------------------------\u001b[0m",
      "\u001b[1;31mTypeError\u001b[0m                                 Traceback (most recent call last)",
      "\u001b[1;32m~\\AppData\\Local\\Temp\\ipykernel_21432\\74700740.py\u001b[0m in \u001b[0;36m<module>\u001b[1;34m\u001b[0m\n\u001b[1;32m----> 1\u001b[1;33m \u001b[0mA\u001b[0m \u001b[1;33m=\u001b[0m \u001b[0mnp\u001b[0m\u001b[1;33m.\u001b[0m\u001b[0mmgrid\u001b[0m\u001b[1;33m(\u001b[0m\u001b[1;36m0\u001b[0m\u001b[1;33m,\u001b[0m\u001b[1;36m0\u001b[0m\u001b[1;33m,\u001b[0m\u001b[1;36m0\u001b[0m\u001b[1;33m)\u001b[0m\u001b[1;33m\u001b[0m\u001b[1;33m\u001b[0m\u001b[0m\n\u001b[0m",
      "\u001b[1;31mTypeError\u001b[0m: 'MGridClass' object is not callable"
     ]
    }
   ],
   "source": [
    "A = np.mgrid(0,0,0)"
   ]
  },
  {
   "cell_type": "code",
   "execution_count": 4,
   "id": "d8fa0be3-910a-4b54-80fe-05e59d680c19",
   "metadata": {},
   "outputs": [
    {
     "data": {
      "text/plain": [
       "array([[0., 0., 0., 0., 0.],\n",
       "       [0., 0., 0., 0., 0.],\n",
       "       [0., 0., 0., 0., 0.],\n",
       "       [0., 0., 0., 0., 0.],\n",
       "       [0., 0., 0., 0., 0.]])"
      ]
     },
     "execution_count": 4,
     "metadata": {},
     "output_type": "execute_result"
    }
   ],
   "source": [
    "A"
   ]
  },
  {
   "cell_type": "code",
   "execution_count": 24,
   "id": "903d7ed8-c738-41ab-85dc-8d0925753622",
   "metadata": {},
   "outputs": [],
   "source": [
    "a = np.linspace(0,5,6)\n",
    "av = np.meshgrid(a)"
   ]
  },
  {
   "cell_type": "code",
   "execution_count": 25,
   "id": "e70257c4-3e21-47c2-89bb-01bdda55e5cc",
   "metadata": {},
   "outputs": [
    {
     "data": {
      "text/plain": [
       "(array([0., 1., 2., 3., 4., 5.]), [array([0., 1., 2., 3., 4., 5.])])"
      ]
     },
     "execution_count": 25,
     "metadata": {},
     "output_type": "execute_result"
    }
   ],
   "source": [
    "a, av"
   ]
  },
  {
   "cell_type": "code",
   "execution_count": 23,
   "id": "9183f0da-0a1a-4b59-9521-19cf6badc50e",
   "metadata": {},
   "outputs": [
    {
     "ename": "ValueError",
     "evalue": "matmul: Input operand 1 has a mismatch in its core dimension 0, with gufunc signature (n?,k),(k,m?)->(n?,m?) (size 6 is different from 5)",
     "output_type": "error",
     "traceback": [
      "\u001b[1;31m---------------------------------------------------------------------------\u001b[0m",
      "\u001b[1;31mValueError\u001b[0m                                Traceback (most recent call last)",
      "\u001b[1;32m~\\AppData\\Local\\Temp\\ipykernel_21432\\2990672173.py\u001b[0m in \u001b[0;36m<module>\u001b[1;34m\u001b[0m\n\u001b[1;32m----> 1\u001b[1;33m \u001b[0mA\u001b[0m\u001b[1;33m@\u001b[0m\u001b[0ma\u001b[0m\u001b[1;33m\u001b[0m\u001b[1;33m\u001b[0m\u001b[0m\n\u001b[0m",
      "\u001b[1;31mValueError\u001b[0m: matmul: Input operand 1 has a mismatch in its core dimension 0, with gufunc signature (n?,k),(k,m?)->(n?,m?) (size 6 is different from 5)"
     ]
    }
   ],
   "source": [
    "A@a"
   ]
  },
  {
   "cell_type": "code",
   "execution_count": null,
   "id": "edb36a44-1c43-4098-8998-6ec52f58d55b",
   "metadata": {},
   "outputs": [],
   "source": []
  },
  {
   "cell_type": "code",
   "execution_count": 69,
   "id": "59b3d915-41cb-4139-aef4-1723a5eb0dfc",
   "metadata": {},
   "outputs": [],
   "source": [
    "x = np.linspace(0,5,6)\n",
    "y = np.linspace(0,5,6)"
   ]
  },
  {
   "cell_type": "code",
   "execution_count": 70,
   "id": "49de5b57-e13f-4c26-bd3f-44f7a67f4d36",
   "metadata": {},
   "outputs": [],
   "source": [
    "xv, yv= np.meshgrid(x,y)"
   ]
  },
  {
   "cell_type": "code",
   "execution_count": 37,
   "id": "b1e27960-75eb-43fb-a213-b79174d16484",
   "metadata": {},
   "outputs": [
    {
     "data": {
      "text/plain": [
       "(array([[0., 1., 2., 3., 4., 5.],\n",
       "        [0., 1., 2., 3., 4., 5.],\n",
       "        [0., 1., 2., 3., 4., 5.],\n",
       "        [0., 1., 2., 3., 4., 5.],\n",
       "        [0., 1., 2., 3., 4., 5.],\n",
       "        [0., 1., 2., 3., 4., 5.]]),\n",
       " array([[0., 0., 0., 0., 0., 0.],\n",
       "        [1., 1., 1., 1., 1., 1.],\n",
       "        [2., 2., 2., 2., 2., 2.],\n",
       "        [3., 3., 3., 3., 3., 3.],\n",
       "        [4., 4., 4., 4., 4., 4.],\n",
       "        [5., 5., 5., 5., 5., 5.]]))"
      ]
     },
     "execution_count": 37,
     "metadata": {},
     "output_type": "execute_result"
    }
   ],
   "source": [
    "xv, yv"
   ]
  },
  {
   "cell_type": "code",
   "execution_count": null,
   "id": "16189956-d262-4dd8-80bf-68d94243c35d",
   "metadata": {},
   "outputs": [],
   "source": []
  },
  {
   "cell_type": "code",
   "execution_count": null,
   "id": "a8570279-faa3-4125-8d86-ed508081796c",
   "metadata": {},
   "outputs": [],
   "source": []
  },
  {
   "cell_type": "code",
   "execution_count": 38,
   "id": "43b521fa-c60e-4c71-939c-ce4d5083cd35",
   "metadata": {},
   "outputs": [
    {
     "ename": "TypeError",
     "evalue": "'builtin_function_or_method' object is not subscriptable",
     "output_type": "error",
     "traceback": [
      "\u001b[1;31m---------------------------------------------------------------------------\u001b[0m",
      "\u001b[1;31mTypeError\u001b[0m                                 Traceback (most recent call last)",
      "\u001b[1;32m~\\AppData\\Local\\Temp\\ipykernel_21432\\969520575.py\u001b[0m in \u001b[0;36m<module>\u001b[1;34m\u001b[0m\n\u001b[1;32m----> 1\u001b[1;33m x = np.array[\n\u001b[0m\u001b[0;32m      2\u001b[0m     [[0,0,0],\n\u001b[0;32m      3\u001b[0m     \u001b[1;33m[\u001b[0m\u001b[1;36m0\u001b[0m\u001b[1;33m,\u001b[0m\u001b[1;36m1\u001b[0m\u001b[1;33m,\u001b[0m\u001b[1;36m0\u001b[0m\u001b[1;33m]\u001b[0m\u001b[1;33m,\u001b[0m\u001b[1;33m\u001b[0m\u001b[1;33m\u001b[0m\u001b[0m\n\u001b[0;32m      4\u001b[0m     \u001b[1;33m[\u001b[0m\u001b[1;36m0\u001b[0m\u001b[1;33m,\u001b[0m\u001b[1;36m2\u001b[0m\u001b[1;33m,\u001b[0m\u001b[1;36m0\u001b[0m\u001b[1;33m]\u001b[0m\u001b[1;33m,\u001b[0m\u001b[1;33m\u001b[0m\u001b[1;33m\u001b[0m\u001b[0m\n\u001b[0;32m      5\u001b[0m     \u001b[1;33m[\u001b[0m\u001b[1;36m1\u001b[0m\u001b[1;33m,\u001b[0m\u001b[1;36m0\u001b[0m\u001b[1;33m,\u001b[0m\u001b[1;36m0\u001b[0m\u001b[1;33m]\u001b[0m\u001b[1;33m,\u001b[0m\u001b[1;33m\u001b[0m\u001b[1;33m\u001b[0m\u001b[0m\n",
      "\u001b[1;31mTypeError\u001b[0m: 'builtin_function_or_method' object is not subscriptable"
     ]
    }
   ],
   "source": [
    "x = np.array[\n",
    "    [[0,0,0],\n",
    "    [0,1,0],\n",
    "    [0,2,0],\n",
    "    [1,0,0],\n",
    "    [2,0,0],\n",
    "    [2,1,0],\n",
    "    [2,2,0]],\n",
    "    [[0,0,2],\n",
    "    [0,1,2],\n",
    "    [0,2,2],\n",
    "    [1,0,2],\n",
    "    [2,0,2],\n",
    "    [2,0,2],\n",
    "    [2,1,2],\n",
    "    [2,2,2]]\n",
    "]"
   ]
  },
  {
   "cell_type": "code",
   "execution_count": 40,
   "id": "e4329ba5-9aca-470e-8df3-0f3dbee5636f",
   "metadata": {},
   "outputs": [
    {
     "ename": "TypeError",
     "evalue": "'builtin_function_or_method' object is not subscriptable",
     "output_type": "error",
     "traceback": [
      "\u001b[1;31m---------------------------------------------------------------------------\u001b[0m",
      "\u001b[1;31mTypeError\u001b[0m                                 Traceback (most recent call last)",
      "\u001b[1;32m~\\AppData\\Local\\Temp\\ipykernel_21432\\534724303.py\u001b[0m in \u001b[0;36m<module>\u001b[1;34m\u001b[0m\n\u001b[1;32m----> 1\u001b[1;33m x = np.array[\n\u001b[0m\u001b[0;32m      2\u001b[0m     [[0,0,0],\n\u001b[0;32m      3\u001b[0m     \u001b[1;33m[\u001b[0m\u001b[1;36m0\u001b[0m\u001b[1;33m,\u001b[0m\u001b[1;36m1\u001b[0m\u001b[1;33m,\u001b[0m\u001b[1;36m0\u001b[0m\u001b[1;33m]\u001b[0m\u001b[1;33m,\u001b[0m\u001b[1;33m\u001b[0m\u001b[1;33m\u001b[0m\u001b[0m\n\u001b[0;32m      4\u001b[0m     \u001b[1;33m[\u001b[0m\u001b[1;36m0\u001b[0m\u001b[1;33m,\u001b[0m\u001b[1;36m2\u001b[0m\u001b[1;33m,\u001b[0m\u001b[1;36m0\u001b[0m\u001b[1;33m]\u001b[0m\u001b[1;33m,\u001b[0m\u001b[1;33m\u001b[0m\u001b[1;33m\u001b[0m\u001b[0m\n\u001b[0;32m      5\u001b[0m     \u001b[1;33m[\u001b[0m\u001b[1;36m1\u001b[0m\u001b[1;33m,\u001b[0m\u001b[1;36m0\u001b[0m\u001b[1;33m,\u001b[0m\u001b[1;36m0\u001b[0m\u001b[1;33m]\u001b[0m\u001b[1;33m,\u001b[0m\u001b[1;33m\u001b[0m\u001b[1;33m\u001b[0m\u001b[0m\n",
      "\u001b[1;31mTypeError\u001b[0m: 'builtin_function_or_method' object is not subscriptable"
     ]
    }
   ],
   "source": [
    "xyz = np.array[\n",
    "    [[0,0,0],\n",
    "    [0,1,0],\n",
    "    [0,2,0],\n",
    "    [1,0,0],\n",
    "    [1,2,0],\n",
    "    [2,0,0],\n",
    "    [2,1,0],\n",
    "    [2,2,0]],\n",
    "    [[0,0,0],\n",
    "    [0,1,0],\n",
    "    [0,2,0],\n",
    "    [0,0,2],\n",
    "    [0,1,2],\n",
    "    [0,2,2],\n",
    "    [0,1,0],\n",
    "    [0,1,1]],\n",
    "    [[2,0,0],\n",
    "    [2,1,0],\n",
    "    [2,2,0],\n",
    "    [2,0,0],\n",
    "    [2,1,0],\n",
    "    [2,2,0],\n",
    "    [2,1,2],\n",
    "    [2,2,2]],\n",
    "    \n",
    "]"
   ]
  },
  {
   "cell_type": "code",
   "execution_count": 57,
   "id": "b59449fe-6db7-46dd-b5ae-0d978dbc26d8",
   "metadata": {},
   "outputs": [],
   "source": [
    "import open3d as o3d\n",
    "m = o3d.geometry.TriangleMesh.create_box(4,4,4)\n",
    "\n",
    "x = m.vertices[0]\n",
    "y = m.vertices[1]\n",
    "z = m.vertices[2]\n",
    "\n",
    "\n",
    "\n",
    "#m = o3d.geometry.TriangleMesh.create_cone(4,4,40)\n",
    "\n"
   ]
  },
  {
   "cell_type": "code",
   "execution_count": 59,
   "id": "c261ba58-0a21-4ad2-a77b-0938583b3951",
   "metadata": {},
   "outputs": [],
   "source": [
    "xx, yy, zz = np.meshgrid(x,y,z)"
   ]
  },
  {
   "cell_type": "code",
   "execution_count": 67,
   "id": "8b830229-e14e-4482-ae70-66dde6632033",
   "metadata": {},
   "outputs": [
    {
     "ename": "AttributeError",
     "evalue": "'list' object has no attribute 'shape'",
     "output_type": "error",
     "traceback": [
      "\u001b[1;31m---------------------------------------------------------------------------\u001b[0m",
      "\u001b[1;31mAttributeError\u001b[0m                            Traceback (most recent call last)",
      "\u001b[1;32m~\\AppData\\Local\\Temp\\ipykernel_21432\\1599740800.py\u001b[0m in \u001b[0;36m<module>\u001b[1;34m\u001b[0m\n\u001b[0;32m      1\u001b[0m \u001b[0mp\u001b[0m \u001b[1;33m=\u001b[0m \u001b[0mnp\u001b[0m\u001b[1;33m.\u001b[0m\u001b[0mmeshgrid\u001b[0m\u001b[1;33m(\u001b[0m\u001b[0mx\u001b[0m\u001b[1;33m,\u001b[0m\u001b[0my\u001b[0m\u001b[1;33m,\u001b[0m\u001b[0mz\u001b[0m\u001b[1;33m)\u001b[0m\u001b[1;33m\u001b[0m\u001b[1;33m\u001b[0m\u001b[0m\n\u001b[1;32m----> 2\u001b[1;33m \u001b[0mprint\u001b[0m\u001b[1;33m(\u001b[0m\u001b[0mp\u001b[0m\u001b[1;33m.\u001b[0m\u001b[0mshape\u001b[0m\u001b[1;33m,\u001b[0m \u001b[0mp\u001b[0m\u001b[1;33m.\u001b[0m\u001b[0msize\u001b[0m\u001b[1;33m,\u001b[0m \u001b[0mp\u001b[0m\u001b[1;33m.\u001b[0m\u001b[0mdim\u001b[0m\u001b[1;33m)\u001b[0m\u001b[1;33m\u001b[0m\u001b[1;33m\u001b[0m\u001b[0m\n\u001b[0m",
      "\u001b[1;31mAttributeError\u001b[0m: 'list' object has no attribute 'shape'"
     ]
    }
   ],
   "source": [
    "p = np.meshgrid(x,y,z)\n",
    "print(p.shape, p.size, p.dim)"
   ]
  },
  {
   "cell_type": "code",
   "execution_count": 65,
   "id": "22767afa-58f6-45a5-b835-f46ab77ff14b",
   "metadata": {},
   "outputs": [
    {
     "data": {
      "text/plain": [
       "((3, 3, 3), 3)"
      ]
     },
     "execution_count": 65,
     "metadata": {},
     "output_type": "execute_result"
    }
   ],
   "source": [
    "xx.shape, xx.ndim"
   ]
  },
  {
   "cell_type": "code",
   "execution_count": 66,
   "id": "5e75f1b5-773f-49d9-8ec9-bc884ae64b8a",
   "metadata": {},
   "outputs": [
    {
     "ename": "TypeError",
     "evalue": "only integer scalar arrays can be converted to a scalar index",
     "output_type": "error",
     "traceback": [
      "\u001b[1;31m---------------------------------------------------------------------------\u001b[0m",
      "\u001b[1;31mTypeError\u001b[0m                                 Traceback (most recent call last)",
      "\u001b[1;32m~\\AppData\\Local\\Temp\\ipykernel_21432\\3081823617.py\u001b[0m in \u001b[0;36m<module>\u001b[1;34m\u001b[0m\n\u001b[1;32m----> 1\u001b[1;33m \u001b[0mnp\u001b[0m\u001b[1;33m.\u001b[0m\u001b[0mstack\u001b[0m\u001b[1;33m(\u001b[0m\u001b[0mxx\u001b[0m\u001b[1;33m,\u001b[0m\u001b[0myy\u001b[0m\u001b[1;33m,\u001b[0m\u001b[0mzz\u001b[0m\u001b[1;33m)\u001b[0m\u001b[1;33m\u001b[0m\u001b[1;33m\u001b[0m\u001b[0m\n\u001b[0m",
      "\u001b[1;32m<__array_function__ internals>\u001b[0m in \u001b[0;36mstack\u001b[1;34m(*args, **kwargs)\u001b[0m\n",
      "\u001b[1;32m~\\Anaconda3\\lib\\site-packages\\numpy\\core\\shape_base.py\u001b[0m in \u001b[0;36mstack\u001b[1;34m(arrays, axis, out)\u001b[0m\n\u001b[0;32m    427\u001b[0m \u001b[1;33m\u001b[0m\u001b[0m\n\u001b[0;32m    428\u001b[0m     \u001b[0mresult_ndim\u001b[0m \u001b[1;33m=\u001b[0m \u001b[0marrays\u001b[0m\u001b[1;33m[\u001b[0m\u001b[1;36m0\u001b[0m\u001b[1;33m]\u001b[0m\u001b[1;33m.\u001b[0m\u001b[0mndim\u001b[0m \u001b[1;33m+\u001b[0m \u001b[1;36m1\u001b[0m\u001b[1;33m\u001b[0m\u001b[1;33m\u001b[0m\u001b[0m\n\u001b[1;32m--> 429\u001b[1;33m     \u001b[0maxis\u001b[0m \u001b[1;33m=\u001b[0m \u001b[0mnormalize_axis_index\u001b[0m\u001b[1;33m(\u001b[0m\u001b[0maxis\u001b[0m\u001b[1;33m,\u001b[0m \u001b[0mresult_ndim\u001b[0m\u001b[1;33m)\u001b[0m\u001b[1;33m\u001b[0m\u001b[1;33m\u001b[0m\u001b[0m\n\u001b[0m\u001b[0;32m    430\u001b[0m \u001b[1;33m\u001b[0m\u001b[0m\n\u001b[0;32m    431\u001b[0m     \u001b[0msl\u001b[0m \u001b[1;33m=\u001b[0m \u001b[1;33m(\u001b[0m\u001b[0mslice\u001b[0m\u001b[1;33m(\u001b[0m\u001b[1;32mNone\u001b[0m\u001b[1;33m)\u001b[0m\u001b[1;33m,\u001b[0m\u001b[1;33m)\u001b[0m \u001b[1;33m*\u001b[0m \u001b[0maxis\u001b[0m \u001b[1;33m+\u001b[0m \u001b[1;33m(\u001b[0m\u001b[0m_nx\u001b[0m\u001b[1;33m.\u001b[0m\u001b[0mnewaxis\u001b[0m\u001b[1;33m,\u001b[0m\u001b[1;33m)\u001b[0m\u001b[1;33m\u001b[0m\u001b[1;33m\u001b[0m\u001b[0m\n",
      "\u001b[1;31mTypeError\u001b[0m: only integer scalar arrays can be converted to a scalar index"
     ]
    }
   ],
   "source": [
    "np.stack(xx,yy,zz)"
   ]
  },
  {
   "cell_type": "code",
   "execution_count": 63,
   "id": "f680739a-99d3-42ab-b36d-4d949fc62d2c",
   "metadata": {},
   "outputs": [
    {
     "data": {
      "text/plain": [
       "array([[[0., 0., 4.],\n",
       "        [0., 0., 4.],\n",
       "        [0., 0., 4.]],\n",
       "\n",
       "       [[0., 0., 4.],\n",
       "        [0., 0., 4.],\n",
       "        [0., 0., 4.]],\n",
       "\n",
       "       [[0., 0., 4.],\n",
       "        [0., 0., 4.],\n",
       "        [0., 0., 4.]]])"
      ]
     },
     "execution_count": 63,
     "metadata": {},
     "output_type": "execute_result"
    }
   ],
   "source": [
    "zz"
   ]
  },
  {
   "cell_type": "code",
   "execution_count": 56,
   "id": "c1b6d32a-df5a-4f07-8ec3-328a18173c5a",
   "metadata": {},
   "outputs": [
    {
     "data": {
      "text/plain": [
       "(array([[ 0.00000000e+00,  0.00000000e+00,  0.00000000e+00],\n",
       "        [ 0.00000000e+00,  0.00000000e+00,  4.00000000e+00],\n",
       "        [ 4.00000000e+00,  0.00000000e+00,  0.00000000e+00],\n",
       "        [ 3.95075336e+00,  6.25737860e-01,  0.00000000e+00],\n",
       "        [ 3.80422607e+00,  1.23606798e+00,  0.00000000e+00],\n",
       "        [ 3.56402610e+00,  1.81596200e+00,  0.00000000e+00],\n",
       "        [ 3.23606798e+00,  2.35114101e+00,  0.00000000e+00],\n",
       "        [ 2.82842712e+00,  2.82842712e+00,  0.00000000e+00],\n",
       "        [ 2.35114101e+00,  3.23606798e+00,  0.00000000e+00],\n",
       "        [ 1.81596200e+00,  3.56402610e+00,  0.00000000e+00],\n",
       "        [ 1.23606798e+00,  3.80422607e+00,  0.00000000e+00],\n",
       "        [ 6.25737860e-01,  3.95075336e+00,  0.00000000e+00],\n",
       "        [ 2.44929360e-16,  4.00000000e+00,  0.00000000e+00],\n",
       "        [-6.25737860e-01,  3.95075336e+00,  0.00000000e+00],\n",
       "        [-1.23606798e+00,  3.80422607e+00,  0.00000000e+00],\n",
       "        [-1.81596200e+00,  3.56402610e+00,  0.00000000e+00],\n",
       "        [-2.35114101e+00,  3.23606798e+00,  0.00000000e+00],\n",
       "        [-2.82842712e+00,  2.82842712e+00,  0.00000000e+00],\n",
       "        [-3.23606798e+00,  2.35114101e+00,  0.00000000e+00],\n",
       "        [-3.56402610e+00,  1.81596200e+00,  0.00000000e+00],\n",
       "        [-3.80422607e+00,  1.23606798e+00,  0.00000000e+00],\n",
       "        [-3.95075336e+00,  6.25737860e-01,  0.00000000e+00],\n",
       "        [-4.00000000e+00,  4.89858720e-16,  0.00000000e+00],\n",
       "        [-3.95075336e+00, -6.25737860e-01,  0.00000000e+00],\n",
       "        [-3.80422607e+00, -1.23606798e+00,  0.00000000e+00],\n",
       "        [-3.56402610e+00, -1.81596200e+00,  0.00000000e+00],\n",
       "        [-3.23606798e+00, -2.35114101e+00,  0.00000000e+00],\n",
       "        [-2.82842712e+00, -2.82842712e+00,  0.00000000e+00],\n",
       "        [-2.35114101e+00, -3.23606798e+00,  0.00000000e+00],\n",
       "        [-1.81596200e+00, -3.56402610e+00,  0.00000000e+00],\n",
       "        [-1.23606798e+00, -3.80422607e+00,  0.00000000e+00],\n",
       "        [-6.25737860e-01, -3.95075336e+00,  0.00000000e+00],\n",
       "        [-7.34788079e-16, -4.00000000e+00,  0.00000000e+00],\n",
       "        [ 6.25737860e-01, -3.95075336e+00,  0.00000000e+00],\n",
       "        [ 1.23606798e+00, -3.80422607e+00,  0.00000000e+00],\n",
       "        [ 1.81596200e+00, -3.56402610e+00,  0.00000000e+00],\n",
       "        [ 2.35114101e+00, -3.23606798e+00,  0.00000000e+00],\n",
       "        [ 2.82842712e+00, -2.82842712e+00,  0.00000000e+00],\n",
       "        [ 3.23606798e+00, -2.35114101e+00,  0.00000000e+00],\n",
       "        [ 3.56402610e+00, -1.81596200e+00,  0.00000000e+00],\n",
       "        [ 3.80422607e+00, -1.23606798e+00,  0.00000000e+00],\n",
       "        [ 3.95075336e+00, -6.25737860e-01,  0.00000000e+00]]),\n",
       " (42, 3))"
      ]
     },
     "execution_count": 56,
     "metadata": {},
     "output_type": "execute_result"
    }
   ],
   "source": [
    "np.asarray(m.vertices), np.asarray(m.vertices).shape "
   ]
  }
 ],
 "metadata": {
  "kernelspec": {
   "display_name": "Python 3 (ipykernel)",
   "language": "python",
   "name": "python3"
  },
  "language_info": {
   "codemirror_mode": {
    "name": "ipython",
    "version": 3
   },
   "file_extension": ".py",
   "mimetype": "text/x-python",
   "name": "python",
   "nbconvert_exporter": "python",
   "pygments_lexer": "ipython3",
   "version": "3.9.13"
  }
 },
 "nbformat": 4,
 "nbformat_minor": 5
}
